{
 "cells": [
  {
   "cell_type": "markdown",
   "id": "f0bb1a98",
   "metadata": {
    "id": "f0bb1a98",
    "toc": true
   },
   "source": [
    "<h1>Table of Contents<span class=\"tocSkip\"></span></h1>\n",
    "<div class=\"toc\"><ul class=\"toc-item\"><li><span><a href=\"#Data-Integrity\" data-toc-modified-id=\"Data-Integrity-1\"><span class=\"toc-item-num\">1&nbsp;&nbsp;</span>Data Integrity</a></span><ul class=\"toc-item\"><li><span><a href=\"#Columns-Info\" data-toc-modified-id=\"Columns-Info-1.1\"><span class=\"toc-item-num\">1.1&nbsp;&nbsp;</span>Columns Info</a></span></li><li><span><a href=\"#Conflicting-Labels\" data-toc-modified-id=\"Conflicting-Labels-1.2\"><span class=\"toc-item-num\">1.2&nbsp;&nbsp;</span>Conflicting Labels</a></span></li><li><span><a href=\"#Data-Duplicates\" data-toc-modified-id=\"Data-Duplicates-1.3\"><span class=\"toc-item-num\">1.3&nbsp;&nbsp;</span>Data Duplicates</a></span></li><li><span><a href=\"#Feature-Label-Correlation\" data-toc-modified-id=\"Feature-Label-Correlation-1.4\"><span class=\"toc-item-num\">1.4&nbsp;&nbsp;</span>Feature Label Correlation</a></span></li><li><span><a href=\"#Feature-Feature-Correlation\" data-toc-modified-id=\"Feature-Feature-Correlation-1.5\"><span class=\"toc-item-num\">1.5&nbsp;&nbsp;</span>Feature Feature Correlation</a></span></li><li><span><a href=\"#Identifier-Label-Correlation\" data-toc-modified-id=\"Identifier-Label-Correlation-1.6\"><span class=\"toc-item-num\">1.6&nbsp;&nbsp;</span>Identifier Label Correlation</a></span></li></ul></li></ul></div>"
   ]
  },
  {
   "cell_type": "markdown",
   "id": "3d7476f9",
   "metadata": {
    "id": "3d7476f9"
   },
   "source": [
    "# Data Integrity\n",
    "\n",
    "[Source](https://docs.deepchecks.com/en/stable/checks_gallery/tabular.html)\n",
    "\n",
    "- Columns Info\n",
    "- Conflicting Labels\n",
    "- Data Duplicates\n",
    "- Feature Label Correlation\n",
    "- Is Single Value\n",
    "- Mixed Data Types\n",
    "- Mixed Nulls\n",
    "- Outlier Sample Detection\n",
    "- Special Characters\n",
    "- String Length Out Of Bounds\n",
    "- String Mismatch\n",
    "\n",
    "\n"
   ]
  },
  {
   "cell_type": "code",
   "execution_count": 1,
   "id": "1e3298c7",
   "metadata": {
    "ExecuteTime": {
     "end_time": "2022-09-27T16:13:59.650094Z",
     "start_time": "2022-09-27T16:13:59.630944Z"
    },
    "executionInfo": {
     "elapsed": 172,
     "status": "ok",
     "timestamp": 1654969311279,
     "user": {
      "displayName": "Ali Nemati",
      "userId": "16088017015746410747"
     },
     "user_tz": 300
    },
    "id": "1e3298c7"
   },
   "outputs": [],
   "source": [
    "from IPython.core.interactiveshell import InteractiveShell\n",
    "InteractiveShell.ast_node_interactivity = \"all\"\n",
    "\n",
    "\n",
    "import warnings\n",
    "warnings.filterwarnings(\"ignore\")\n",
    "seed = 12345"
   ]
  },
  {
   "cell_type": "code",
   "execution_count": 2,
   "id": "7524e9fa",
   "metadata": {
    "ExecuteTime": {
     "end_time": "2022-09-27T16:13:59.653676Z",
     "start_time": "2022-09-27T16:13:59.651557Z"
    }
   },
   "outputs": [],
   "source": [
    "# !pip install deepchecks --upgrade"
   ]
  },
  {
   "cell_type": "code",
   "execution_count": 3,
   "id": "6OBEIENuh3p6",
   "metadata": {
    "ExecuteTime": {
     "end_time": "2022-09-27T16:13:59.656071Z",
     "start_time": "2022-09-27T16:13:59.654534Z"
    },
    "executionInfo": {
     "elapsed": 1,
     "status": "ok",
     "timestamp": 1654969301900,
     "user": {
      "displayName": "Ali Nemati",
      "userId": "16088017015746410747"
     },
     "user_tz": 300
    },
    "id": "6OBEIENuh3p6"
   },
   "outputs": [],
   "source": [
    "# !pip install deepchecks --upgrade\n",
    "# conda install -c conda-forge ipympl nodejs\n",
    "# jupyter labextension install @jupyter-widgets/jupyterlab-manager jupyter-matplotlib"
   ]
  },
  {
   "cell_type": "markdown",
   "id": "f022e243",
   "metadata": {
    "id": "f022e243"
   },
   "source": [
    "## Columns Info\n"
   ]
  },
  {
   "cell_type": "code",
   "execution_count": 4,
   "id": "044c9f6d",
   "metadata": {
    "ExecuteTime": {
     "end_time": "2022-09-27T16:13:59.661707Z",
     "start_time": "2022-09-27T16:13:59.657046Z"
    }
   },
   "outputs": [
    {
     "data": {
      "text/plain": [
       "'/Users/parsanemati/ASUS/ASUSWebStorage/ali.nemati1983@gmail.com/MySyncFolder/GITHUB/data_science_eda/deepcheck'"
      ]
     },
     "execution_count": 4,
     "metadata": {},
     "output_type": "execute_result"
    }
   ],
   "source": [
    "pwd"
   ]
  },
  {
   "cell_type": "code",
   "execution_count": 5,
   "id": "982e110f",
   "metadata": {
    "ExecuteTime": {
     "end_time": "2022-09-27T16:14:02.211844Z",
     "start_time": "2022-09-27T16:13:59.663662Z"
    },
    "colab": {
     "base_uri": "https://localhost:8080/",
     "height": 265
    },
    "executionInfo": {
     "elapsed": 4819,
     "status": "ok",
     "timestamp": 1654969321165,
     "user": {
      "displayName": "Ali Nemati",
      "userId": "16088017015746410747"
     },
     "user_tz": 300
    },
    "id": "982e110f",
    "outputId": "0b5b385f-7cee-4d3a-b102-016d9a409adb"
   },
   "outputs": [
    {
     "data": {
      "text/html": [
       "<div>\n",
       "<style scoped>\n",
       "    .dataframe tbody tr th:only-of-type {\n",
       "        vertical-align: middle;\n",
       "    }\n",
       "\n",
       "    .dataframe tbody tr th {\n",
       "        vertical-align: top;\n",
       "    }\n",
       "\n",
       "    .dataframe thead th {\n",
       "        text-align: right;\n",
       "    }\n",
       "</style>\n",
       "<table border=\"1\" class=\"dataframe\">\n",
       "  <thead>\n",
       "    <tr style=\"text-align: right;\">\n",
       "      <th></th>\n",
       "      <th>PassengerId</th>\n",
       "      <th>Survived</th>\n",
       "      <th>Pclass</th>\n",
       "      <th>Name</th>\n",
       "      <th>Sex</th>\n",
       "      <th>Age</th>\n",
       "      <th>SibSp</th>\n",
       "      <th>Parch</th>\n",
       "      <th>Ticket</th>\n",
       "      <th>Fare</th>\n",
       "      <th>Cabin</th>\n",
       "      <th>Embarked</th>\n",
       "    </tr>\n",
       "  </thead>\n",
       "  <tbody>\n",
       "    <tr>\n",
       "      <th>0</th>\n",
       "      <td>1</td>\n",
       "      <td>0</td>\n",
       "      <td>3</td>\n",
       "      <td>Braund, Mr. Owen Harris</td>\n",
       "      <td>male</td>\n",
       "      <td>22.0</td>\n",
       "      <td>1</td>\n",
       "      <td>0</td>\n",
       "      <td>A/5 21171</td>\n",
       "      <td>7.2500</td>\n",
       "      <td>NaN</td>\n",
       "      <td>S</td>\n",
       "    </tr>\n",
       "    <tr>\n",
       "      <th>1</th>\n",
       "      <td>2</td>\n",
       "      <td>1</td>\n",
       "      <td>1</td>\n",
       "      <td>Cumings, Mrs. John Bradley (Florence Briggs Th...</td>\n",
       "      <td>female</td>\n",
       "      <td>38.0</td>\n",
       "      <td>1</td>\n",
       "      <td>0</td>\n",
       "      <td>PC 17599</td>\n",
       "      <td>71.2833</td>\n",
       "      <td>C85</td>\n",
       "      <td>C</td>\n",
       "    </tr>\n",
       "    <tr>\n",
       "      <th>2</th>\n",
       "      <td>3</td>\n",
       "      <td>1</td>\n",
       "      <td>3</td>\n",
       "      <td>Heikkinen, Miss. Laina</td>\n",
       "      <td>female</td>\n",
       "      <td>26.0</td>\n",
       "      <td>0</td>\n",
       "      <td>0</td>\n",
       "      <td>STON/O2. 3101282</td>\n",
       "      <td>7.9250</td>\n",
       "      <td>NaN</td>\n",
       "      <td>S</td>\n",
       "    </tr>\n",
       "    <tr>\n",
       "      <th>3</th>\n",
       "      <td>4</td>\n",
       "      <td>1</td>\n",
       "      <td>1</td>\n",
       "      <td>Futrelle, Mrs. Jacques Heath (Lily May Peel)</td>\n",
       "      <td>female</td>\n",
       "      <td>35.0</td>\n",
       "      <td>1</td>\n",
       "      <td>0</td>\n",
       "      <td>113803</td>\n",
       "      <td>53.1000</td>\n",
       "      <td>C123</td>\n",
       "      <td>S</td>\n",
       "    </tr>\n",
       "    <tr>\n",
       "      <th>4</th>\n",
       "      <td>5</td>\n",
       "      <td>0</td>\n",
       "      <td>3</td>\n",
       "      <td>Allen, Mr. William Henry</td>\n",
       "      <td>male</td>\n",
       "      <td>35.0</td>\n",
       "      <td>0</td>\n",
       "      <td>0</td>\n",
       "      <td>373450</td>\n",
       "      <td>8.0500</td>\n",
       "      <td>NaN</td>\n",
       "      <td>S</td>\n",
       "    </tr>\n",
       "  </tbody>\n",
       "</table>\n",
       "</div>"
      ],
      "text/plain": [
       "   PassengerId  Survived  Pclass  \\\n",
       "0            1         0       3   \n",
       "1            2         1       1   \n",
       "2            3         1       3   \n",
       "3            4         1       1   \n",
       "4            5         0       3   \n",
       "\n",
       "                                                Name     Sex   Age  SibSp  \\\n",
       "0                            Braund, Mr. Owen Harris    male  22.0      1   \n",
       "1  Cumings, Mrs. John Bradley (Florence Briggs Th...  female  38.0      1   \n",
       "2                             Heikkinen, Miss. Laina  female  26.0      0   \n",
       "3       Futrelle, Mrs. Jacques Heath (Lily May Peel)  female  35.0      1   \n",
       "4                           Allen, Mr. William Henry    male  35.0      0   \n",
       "\n",
       "   Parch            Ticket     Fare Cabin Embarked  \n",
       "0      0         A/5 21171   7.2500   NaN        S  \n",
       "1      0          PC 17599  71.2833   C85        C  \n",
       "2      0  STON/O2. 3101282   7.9250   NaN        S  \n",
       "3      0            113803  53.1000  C123        S  \n",
       "4      0            373450   8.0500   NaN        S  "
      ]
     },
     "execution_count": 5,
     "metadata": {},
     "output_type": "execute_result"
    },
    {
     "data": {
      "application/vnd.jupyter.widget-view+json": {
       "model_id": "f12308e7ad82449aa5420f595b4bab23",
       "version_major": 2,
       "version_minor": 0
      },
      "text/plain": [
       "VBox(children=(HTML(value='<h4><b>Columns Info</b></h4>'), HTML(value='<p>Return the role and logical type of …"
      ]
     },
     "metadata": {},
     "output_type": "display_data"
    },
    {
     "data": {
      "text/plain": [
       "'./report/ColumnsInfo (1).html'"
      ]
     },
     "execution_count": 5,
     "metadata": {},
     "output_type": "execute_result"
    }
   ],
   "source": [
    "import numpy as np\n",
    "import pandas as pd\n",
    "\n",
    "from deepchecks.tabular import Dataset\n",
    "from deepchecks.tabular.checks import ColumnsInfo\n",
    "\n",
    "\n",
    "df = pd.read_csv(\"../data/titanic.csv\")\n",
    "df.head()\n",
    "\n",
    "\n",
    "dataset = Dataset(df, label='Survived',  index_name='PassengerId', features=[ 'Pclass','Name','Sex', 'Age', 'SibSp', 'Parch', 'Ticket', 'Fare', 'Cabin', 'Embarked'],  cat_features=['Name' , 'Ticket'])\n",
    "\n",
    "check = ColumnsInfo(n_top_columns=  12)\n",
    "check.run(dataset=dataset)\n",
    "check.run(dataset=dataset).save_as_html(\"./report/ColumnsInfo.html\")\n"
   ]
  },
  {
   "cell_type": "markdown",
   "id": "C8fN38dhCg28",
   "metadata": {
    "id": "C8fN38dhCg28"
   },
   "source": [
    "## Conflicting Labels\n"
   ]
  },
  {
   "cell_type": "code",
   "execution_count": 6,
   "id": "cThTLZDYCg-m",
   "metadata": {
    "ExecuteTime": {
     "end_time": "2022-09-27T16:14:02.354449Z",
     "start_time": "2022-09-27T16:14:02.212784Z"
    },
    "colab": {
     "base_uri": "https://localhost:8080/",
     "height": 401
    },
    "executionInfo": {
     "elapsed": 2423,
     "status": "ok",
     "timestamp": 1654969344742,
     "user": {
      "displayName": "Ali Nemati",
      "userId": "16088017015746410747"
     },
     "user_tz": 300
    },
    "id": "cThTLZDYCg-m",
    "outputId": "249fc2b1-d979-4cfe-964e-f6461ddf8f94"
   },
   "outputs": [
    {
     "data": {
      "application/vnd.jupyter.widget-view+json": {
       "model_id": "f92bbcf9a863491ebb2614af03006d7b",
       "version_major": 2,
       "version_minor": 0
      },
      "text/plain": [
       "VBox(children=(HTML(value='<h4><b>Conflicting Labels</b></h4>'), HTML(value='<p>Find samples which have the ex…"
      ]
     },
     "metadata": {},
     "output_type": "display_data"
    },
    {
     "data": {
      "text/plain": [
       "'./report/ConflictingLabels (1).html'"
      ]
     },
     "execution_count": 6,
     "metadata": {},
     "output_type": "execute_result"
    }
   ],
   "source": [
    "from deepchecks.tabular.checks import ConflictingLabels\n",
    "from deepchecks.tabular.datasets.classification.phishing import load_data\n",
    "## Run the Check\n",
    "ConflictingLabels(n_top_columns=  12).run(dataset )\n",
    "ConflictingLabels().run(dataset).save_as_html(\"./report/ConflictingLabels.html\")\n"
   ]
  },
  {
   "cell_type": "markdown",
   "id": "o2XB5k4HDI0o",
   "metadata": {
    "id": "o2XB5k4HDI0o"
   },
   "source": [
    "## Data Duplicates\n",
    "\n",
    "- Why data duplicates?\n",
    "\n",
    "The DataDuplicates check finds multiple instances of identical samples in the Dataset. Duplicate samples increase the weight the model gives to those samples. If these duplicates are there intentionally (e.g. as a result of intentional oversampling, or due to the dataset’s nature it has identical-looking samples) this may be valid, however if this is an hidden issue we’re not expecting to occur, it may be an indicator for a problem in the data pipeline that requires attentio"
   ]
  },
  {
   "cell_type": "code",
   "execution_count": 7,
   "id": "f5KdZPzBDJpf",
   "metadata": {
    "ExecuteTime": {
     "end_time": "2022-09-27T16:14:02.420717Z",
     "start_time": "2022-09-27T16:14:02.355280Z"
    },
    "colab": {
     "base_uri": "https://localhost:8080/",
     "height": 390
    },
    "executionInfo": {
     "elapsed": 582,
     "status": "ok",
     "timestamp": 1654969357216,
     "user": {
      "displayName": "Ali Nemati",
      "userId": "16088017015746410747"
     },
     "user_tz": 300
    },
    "id": "f5KdZPzBDJpf",
    "outputId": "6324feec-4e83-416d-8301-714c52324664"
   },
   "outputs": [
    {
     "data": {
      "application/vnd.jupyter.widget-view+json": {
       "model_id": "051c337424f8484fa7920a2445435feb",
       "version_major": 2,
       "version_minor": 0
      },
      "text/plain": [
       "VBox(children=(HTML(value='<h4><b>Data Duplicates</b></h4>'), HTML(value='<p>Checks for duplicate samples in t…"
      ]
     },
     "metadata": {},
     "output_type": "display_data"
    },
    {
     "data": {
      "text/plain": [
       "'./report/DataDuplicates (1).html'"
      ]
     },
     "execution_count": 7,
     "metadata": {},
     "output_type": "execute_result"
    }
   ],
   "source": [
    "from deepchecks.tabular.datasets.classification.phishing import load_data\n",
    "from deepchecks.tabular.checks import DataDuplicates\n",
    "\n",
    "\n",
    "from deepchecks.tabular.checks import DataDuplicates\n",
    "\n",
    "DataDuplicates(n_top_columns=  12).run(dataset)\n",
    "DataDuplicates().run(dataset).save_as_html(\"./report/DataDuplicates.html\")"
   ]
  },
  {
   "cell_type": "markdown",
   "id": "ZxHIMeUmIFKS",
   "metadata": {
    "id": "ZxHIMeUmIFKS"
   },
   "source": [
    "## Feature Label Correlation\n"
   ]
  },
  {
   "cell_type": "markdown",
   "id": "yNN2T0IJ3cBL",
   "metadata": {
    "id": "yNN2T0IJ3cBL"
   },
   "source": [
    "The Predictive Power Score (PPS) is used to estimate the ability of a feature to predict the label by itself (Read more about Predictive Power Score). A high PPS (close to 1) can mean that this feature's success in predicting the label is actually due to data leakage - meaning that the feature holds information that is based on the label to begin with.\n"
   ]
  },
  {
   "cell_type": "code",
   "execution_count": 9,
   "id": "p-gLqetwIFSs",
   "metadata": {
    "ExecuteTime": {
     "end_time": "2022-09-27T16:14:08.235501Z",
     "start_time": "2022-09-27T16:14:07.912799Z"
    },
    "colab": {
     "base_uri": "https://localhost:8080/",
     "height": 732,
     "resources": {
      "http://localhost:8080/jupyterlab-plotly.js": {
       "data": "CjwhRE9DVFlQRSBodG1sPgo8aHRtbCBsYW5nPWVuPgogIDxtZXRhIGNoYXJzZXQ9dXRmLTg+CiAgPG1ldGEgbmFtZT12aWV3cG9ydCBjb250ZW50PSJpbml0aWFsLXNjYWxlPTEsIG1pbmltdW0tc2NhbGU9MSwgd2lkdGg9ZGV2aWNlLXdpZHRoIj4KICA8dGl0bGU+RXJyb3IgNDA0IChOb3QgRm91bmQpISExPC90aXRsZT4KICA8c3R5bGU+CiAgICAqe21hcmdpbjowO3BhZGRpbmc6MH1odG1sLGNvZGV7Zm9udDoxNXB4LzIycHggYXJpYWwsc2Fucy1zZXJpZn1odG1se2JhY2tncm91bmQ6I2ZmZjtjb2xvcjojMjIyO3BhZGRpbmc6MTVweH1ib2R5e21hcmdpbjo3JSBhdXRvIDA7bWF4LXdpZHRoOjM5MHB4O21pbi1oZWlnaHQ6MTgwcHg7cGFkZGluZzozMHB4IDAgMTVweH0qID4gYm9keXtiYWNrZ3JvdW5kOnVybCgvL3d3dy5nb29nbGUuY29tL2ltYWdlcy9lcnJvcnMvcm9ib3QucG5nKSAxMDAlIDVweCBuby1yZXBlYXQ7cGFkZGluZy1yaWdodDoyMDVweH1we21hcmdpbjoxMXB4IDAgMjJweDtvdmVyZmxvdzpoaWRkZW59aW5ze2NvbG9yOiM3Nzc7dGV4dC1kZWNvcmF0aW9uOm5vbmV9YSBpbWd7Ym9yZGVyOjB9QG1lZGlhIHNjcmVlbiBhbmQgKG1heC13aWR0aDo3NzJweCl7Ym9keXtiYWNrZ3JvdW5kOm5vbmU7bWFyZ2luLXRvcDowO21heC13aWR0aDpub25lO3BhZGRpbmctcmlnaHQ6MH19I2xvZ297YmFja2dyb3VuZDp1cmwoLy93d3cuZ29vZ2xlLmNvbS9pbWFnZXMvbG9nb3MvZXJyb3JwYWdlL2Vycm9yX2xvZ28tMTUweDU0LnBuZykgbm8tcmVwZWF0O21hcmdpbi1sZWZ0Oi01cHh9QG1lZGlhIG9ubHkgc2NyZWVuIGFuZCAobWluLXJlc29sdXRpb246MTkyZHBpKXsjbG9nb3tiYWNrZ3JvdW5kOnVybCgvL3d3dy5nb29nbGUuY29tL2ltYWdlcy9sb2dvcy9lcnJvcnBhZ2UvZXJyb3JfbG9nby0xNTB4NTQtMngucG5nKSBuby1yZXBlYXQgMCUgMCUvMTAwJSAxMDAlOy1tb3otYm9yZGVyLWltYWdlOnVybCgvL3d3dy5nb29nbGUuY29tL2ltYWdlcy9sb2dvcy9lcnJvcnBhZ2UvZXJyb3JfbG9nby0xNTB4NTQtMngucG5nKSAwfX1AbWVkaWEgb25seSBzY3JlZW4gYW5kICgtd2Via2l0LW1pbi1kZXZpY2UtcGl4ZWwtcmF0aW86Mil7I2xvZ297YmFja2dyb3VuZDp1cmwoLy93d3cuZ29vZ2xlLmNvbS9pbWFnZXMvbG9nb3MvZXJyb3JwYWdlL2Vycm9yX2xvZ28tMTUweDU0LTJ4LnBuZykgbm8tcmVwZWF0Oy13ZWJraXQtYmFja2dyb3VuZC1zaXplOjEwMCUgMTAwJX19I2xvZ297ZGlzcGxheTppbmxpbmUtYmxvY2s7aGVpZ2h0OjU0cHg7d2lkdGg6MTUwcHh9CiAgPC9zdHlsZT4KICA8YSBocmVmPS8vd3d3Lmdvb2dsZS5jb20vPjxzcGFuIGlkPWxvZ28gYXJpYS1sYWJlbD1Hb29nbGU+PC9zcGFuPjwvYT4KICA8cD48Yj40MDQuPC9iPiA8aW5zPlRoYXTigJlzIGFuIGVycm9yLjwvaW5zPgogIDxwPiAgPGlucz5UaGF04oCZcyBhbGwgd2Uga25vdy48L2lucz4K",
       "headers": [
        [
         "content-length",
         "1449"
        ],
        [
         "content-type",
         "text/html; charset=utf-8"
        ]
       ],
       "ok": false,
       "status": 404,
       "status_text": ""
      }
     }
    },
    "executionInfo": {
     "elapsed": 1362,
     "status": "ok",
     "timestamp": 1654969527092,
     "user": {
      "displayName": "Ali Nemati",
      "userId": "16088017015746410747"
     },
     "user_tz": 300
    },
    "id": "p-gLqetwIFSs",
    "outputId": "b8e7cf7e-7c2f-404e-e4e0-4558f28f0bf5"
   },
   "outputs": [
    {
     "data": {
      "application/vnd.jupyter.widget-view+json": {
       "model_id": "6eb279766c5d469ab602531210dc82db",
       "version_major": 2,
       "version_minor": 0
      },
      "text/plain": [
       "VBox(children=(HTML(value='<h4><b>Feature Label Correlation</b></h4>'), HTML(value='<p>Return the PPS (Predict…"
      ]
     },
     "metadata": {},
     "output_type": "display_data"
    }
   ],
   "source": [
    "import numpy as np\n",
    "import pandas as pd\n",
    "\n",
    "from deepchecks.tabular import Dataset\n",
    "from deepchecks.tabular.checks import FeatureLabelCorrelation\n",
    "\n",
    "# Using the FeatureLabelCorrelation check class\n",
    "my_check = FeatureLabelCorrelation( ppscore_params={'sample': 10} ,n_top_columns=  12)\n",
    "my_check.run(dataset=dataset )"
   ]
  },
  {
   "cell_type": "markdown",
   "id": "f6e7bd44",
   "metadata": {},
   "source": [
    "## Feature Feature Correlation\n"
   ]
  },
  {
   "cell_type": "code",
   "execution_count": 14,
   "id": "3a0f8d5c",
   "metadata": {
    "ExecuteTime": {
     "end_time": "2022-09-27T16:16:52.571654Z",
     "start_time": "2022-09-27T16:16:52.465957Z"
    }
   },
   "outputs": [
    {
     "data": {
      "application/vnd.jupyter.widget-view+json": {
       "model_id": "308547b2ff9040daa81cdea4808308e8",
       "version_major": 2,
       "version_minor": 0
      },
      "text/plain": [
       "VBox(children=(HTML(value='<h4><b>Feature-Feature Correlation</b></h4>'), HTML(value='<p>    Checks for pairwi…"
      ]
     },
     "metadata": {},
     "output_type": "display_data"
    }
   ],
   "source": [
    "import pandas as pd\n",
    "from deepchecks.tabular.datasets.classification import adult\n",
    "from deepchecks.tabular.checks.data_integrity import FeatureFeatureCorrelation\n",
    "\n",
    "check = FeatureFeatureCorrelation()\n",
    "check.run(dataset)\n",
    "\n",
    "# To display the results in an IDE like PyCharm, you can use the following code:\n",
    "# check.run(ds).show()\n",
    "# The result will be displayed in a new window.\n",
    "\n"
   ]
  },
  {
   "cell_type": "markdown",
   "id": "501fcb92",
   "metadata": {},
   "source": [
    "## Identifier Label Correlation\n"
   ]
  },
  {
   "cell_type": "code",
   "execution_count": 16,
   "id": "d68e9679",
   "metadata": {
    "ExecuteTime": {
     "end_time": "2022-09-27T16:32:12.001718Z",
     "start_time": "2022-09-27T16:32:11.916996Z"
    }
   },
   "outputs": [
    {
     "data": {
      "application/vnd.jupyter.widget-view+json": {
       "model_id": "81e8502c63174334abefe32565af8392",
       "version_major": 2,
       "version_minor": 0
      },
      "text/plain": [
       "VBox(children=(HTML(value='<h4><b>Identifier Label Correlation</b></h4>'), HTML(value='<p>Check if identifiers…"
      ]
     },
     "metadata": {},
     "output_type": "display_data"
    }
   ],
   "source": [
    "import numpy as np\n",
    "import pandas as pd\n",
    "\n",
    "from deepchecks.tabular import Dataset\n",
    "from deepchecks.tabular.checks import IdentifierLabelCorrelation\n",
    "\n",
    "check = IdentifierLabelCorrelation(n_samples=12)\n",
    "check.run(dataset)\n",
    "\n",
    "# To display the results in an IDE like PyCharm, you can use the following code:\n",
    "# check.run(ds).show()\n",
    "# The result will be displayed in a new window."
   ]
  },
  {
   "cell_type": "markdown",
   "id": "a2540440",
   "metadata": {},
   "source": [
    "## Is Single Value\n"
   ]
  },
  {
   "cell_type": "code",
   "execution_count": 20,
   "id": "a5a02f34",
   "metadata": {
    "ExecuteTime": {
     "end_time": "2022-09-27T17:03:52.570602Z",
     "start_time": "2022-09-27T17:03:52.545015Z"
    }
   },
   "outputs": [
    {
     "data": {
      "text/html": [
       "<div>\n",
       "<style scoped>\n",
       "    .dataframe tbody tr th:only-of-type {\n",
       "        vertical-align: middle;\n",
       "    }\n",
       "\n",
       "    .dataframe tbody tr th {\n",
       "        vertical-align: top;\n",
       "    }\n",
       "\n",
       "    .dataframe thead th {\n",
       "        text-align: right;\n",
       "    }\n",
       "</style>\n",
       "<table border=\"1\" class=\"dataframe\">\n",
       "  <thead>\n",
       "    <tr style=\"text-align: right;\">\n",
       "      <th></th>\n",
       "      <th>animal</th>\n",
       "      <th>age</th>\n",
       "    </tr>\n",
       "  </thead>\n",
       "  <tbody>\n",
       "    <tr>\n",
       "      <th>0</th>\n",
       "      <td>cat</td>\n",
       "      <td>12</td>\n",
       "    </tr>\n",
       "    <tr>\n",
       "      <th>1</th>\n",
       "      <td>cat</td>\n",
       "      <td>13</td>\n",
       "    </tr>\n",
       "    <tr>\n",
       "      <th>2</th>\n",
       "      <td>dog</td>\n",
       "      <td>31</td>\n",
       "    </tr>\n",
       "    <tr>\n",
       "      <th>3</th>\n",
       "      <td>dog</td>\n",
       "      <td>12</td>\n",
       "    </tr>\n",
       "    <tr>\n",
       "      <th>4</th>\n",
       "      <td>fish</td>\n",
       "      <td>12</td>\n",
       "    </tr>\n",
       "    <tr>\n",
       "      <th>5</th>\n",
       "      <td>fish</td>\n",
       "      <td>32</td>\n",
       "    </tr>\n",
       "    <tr>\n",
       "      <th>6</th>\n",
       "      <td>bear</td>\n",
       "      <td>90</td>\n",
       "    </tr>\n",
       "  </tbody>\n",
       "</table>\n",
       "</div>"
      ],
      "text/plain": [
       "  animal  age\n",
       "0    cat   12\n",
       "1    cat   13\n",
       "2    dog   31\n",
       "3    dog   12\n",
       "4   fish   12\n",
       "5   fish   32\n",
       "6   bear   90"
      ]
     },
     "execution_count": 20,
     "metadata": {},
     "output_type": "execute_result"
    }
   ],
   "source": [
    "import pandas as pd\n",
    "\n",
    "# Made-up training dataset\n",
    "train = pd.DataFrame({'animal': ['cat', 'cat', 'dog', 'dog', 'fish', 'fish', 'bear'],\n",
    "                      'age': [12, 13, 31, 12, 12, 32, 90]})\n",
    "\n",
    "# Made-up test dataset (notice how two classes are from train are missing entirely)\n",
    "test = pd.DataFrame({'animal': ['fish', 'fish', 'dog'],\n",
    "                      'age': [15, 62, 1]})\n",
    "\n",
    "train"
   ]
  },
  {
   "cell_type": "code",
   "execution_count": 21,
   "id": "d410635b",
   "metadata": {
    "ExecuteTime": {
     "end_time": "2022-09-27T17:03:59.366913Z",
     "start_time": "2022-09-27T17:03:59.343481Z"
    }
   },
   "outputs": [
    {
     "data": {
      "text/html": [
       "<div>\n",
       "<style scoped>\n",
       "    .dataframe tbody tr th:only-of-type {\n",
       "        vertical-align: middle;\n",
       "    }\n",
       "\n",
       "    .dataframe tbody tr th {\n",
       "        vertical-align: top;\n",
       "    }\n",
       "\n",
       "    .dataframe thead th {\n",
       "        text-align: right;\n",
       "    }\n",
       "</style>\n",
       "<table border=\"1\" class=\"dataframe\">\n",
       "  <thead>\n",
       "    <tr style=\"text-align: right;\">\n",
       "      <th></th>\n",
       "      <th>animal</th>\n",
       "      <th>age</th>\n",
       "    </tr>\n",
       "  </thead>\n",
       "  <tbody>\n",
       "    <tr>\n",
       "      <th>0</th>\n",
       "      <td>fish</td>\n",
       "      <td>15</td>\n",
       "    </tr>\n",
       "    <tr>\n",
       "      <th>1</th>\n",
       "      <td>fish</td>\n",
       "      <td>62</td>\n",
       "    </tr>\n",
       "    <tr>\n",
       "      <th>2</th>\n",
       "      <td>dog</td>\n",
       "      <td>1</td>\n",
       "    </tr>\n",
       "  </tbody>\n",
       "</table>\n",
       "</div>"
      ],
      "text/plain": [
       "  animal  age\n",
       "0   fish   15\n",
       "1   fish   62\n",
       "2    dog    1"
      ]
     },
     "execution_count": 21,
     "metadata": {},
     "output_type": "execute_result"
    }
   ],
   "source": [
    "test"
   ]
  },
  {
   "cell_type": "code",
   "execution_count": null,
   "id": "458fc00f",
   "metadata": {},
   "outputs": [],
   "source": [
    "# Discrete column to be one-hot-encoded\n",
    "col = 'animal'\n",
    "\n",
    "# Create dummy variables for each level of `col`\n",
    "train_animal_dummies = pd.get_dummies(train[col], prefix=col)\n",
    "train = train.join(train_animal_dummies)\n",
    "\n",
    "test_animal_dummies = pd.get_dummies(test[col], prefix=col)\n",
    "test = test.join(test_animal_dummies)\n",
    "\n",
    "# Find the difference in columns between the two datasets\n",
    "# This will work in trivial case, but if you want to limit to just one feature\n",
    "# use this: f = lambda c: col in c; feature_difference = set(filter(f, train)) - set(filter(f, test))\n",
    "feature_difference = set(train) - set(test)\n",
    "\n",
    "# create zero-filled matrix where the rows are equal to the number\n",
    "# of row in `test` and columns equal the number of categories missing (i.e. set difference \n",
    "# between relevant `train` and `test` columns\n",
    "feature_difference_df = pd.DataFrame(data=np.zeros((test.shape[0], len(feature_difference))),\n",
    "                                     columns=list(feature_difference))\n",
    "\n",
    "# add \"missing\" features back to `test\n",
    "test = test.join(feature_difference_df)\n",
    "\n"
   ]
  }
 ],
 "metadata": {
  "colab": {
   "collapsed_sections": [],
   "name": "Tabular Checks.ipynb",
   "provenance": [],
   "toc_visible": true
  },
  "kernelspec": {
   "display_name": "nlp",
   "language": "python",
   "name": "nlp"
  },
  "language_info": {
   "codemirror_mode": {
    "name": "ipython",
    "version": 3
   },
   "file_extension": ".py",
   "mimetype": "text/x-python",
   "name": "python",
   "nbconvert_exporter": "python",
   "pygments_lexer": "ipython3",
   "version": "3.8.13"
  },
  "toc": {
   "base_numbering": 1,
   "nav_menu": {},
   "number_sections": true,
   "sideBar": true,
   "skip_h1_title": false,
   "title_cell": "Table of Contents",
   "title_sidebar": "Contents",
   "toc_cell": true,
   "toc_position": {},
   "toc_section_display": true,
   "toc_window_display": true
  }
 },
 "nbformat": 4,
 "nbformat_minor": 5
}
