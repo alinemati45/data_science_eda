{
 "cells": [
  {
   "cell_type": "markdown",
   "metadata": {
    "toc": true
   },
   "source": [
    "<h1>Table of Contents<span class=\"tocSkip\"></span></h1>\n",
    "<div class=\"toc\"><ul class=\"toc-item\"></ul></div>"
   ]
  },
  {
   "cell_type": "markdown",
   "metadata": {},
   "source": [
    "# Horizontal Bar Chart Races\n"
   ]
  },
  {
   "cell_type": "code",
   "execution_count": 1,
   "metadata": {},
   "outputs": [],
   "source": [
    "from IPython.core.interactiveshell import InteractiveShell\n",
    "import warnings\n",
    "warnings.filterwarnings(\"ignore\")\n",
    "InteractiveShell.ast_node_interactivity = \"all\"\n"
   ]
  },
  {
   "cell_type": "code",
   "execution_count": 2,
   "metadata": {},
   "outputs": [
    {
     "name": "stdout",
     "output_type": "stream",
     "text": [
      "Generating BarChartRace, plotting ['Belgium', 'Brazil', 'Canada', 'China', 'France', 'Germany', 'India', 'Indonesia', 'Iran', 'Ireland', 'Italy', 'Mexico', 'Netherlands', 'Portugal', 'Spain', 'Sweden', 'Switzerland', 'Turkey', 'USA', 'United Kingdom']\n"
     ]
    },
    {
     "data": {
      "text/plain": [
       "BarChartRace(df=                     Belgium  Brazil  Canada   China   France  Germany  India  \\\n",
       "date                                                                            \n",
       "2020-02-26 00:00:00      NaN     NaN     NaN  2717.0      2.0      NaN    NaN   \n",
       "2020-02-26 04:48:00      NaN     NaN     NaN  2722.8      2.0      NaN    NaN   \n",
       "2020-02-26 09:36:00      NaN     NaN     NaN  2728.6      2.0      NaN    NaN   \n",
       "2020-02-26 14:24:00      NaN     NaN     NaN  2734.4      2.0      NaN    NaN   \n",
       "2020-02-26 19:12:00      NaN     NaN     NaN  2740.2      2.0      NaN    NaN   \n",
       "...                      ...     ...     ...     ...      ...      ...    ...   \n",
       "2020-04-21 04:48:00   6050.8  2774.0  1941.4  4636.0  20937.8   5082.2  652.2   \n",
       "2020-04-21 09:36:00   6103.6  2807.0  1974.8  4636.0  21046.6   5131.4  659.4   \n",
       "2020-04-21 14:24:00   6156.4  2840.0  2008.2  4636.0  21155.4   5180.6  666.6   \n",
       "2020-04-21 19:12:00   6209.2  2873.0  2041.6  4636.0  21264.2   5229.8  673.8   \n",
       "2020-04-22 00:00:00   6262.0  2906.0  2075.0  4636.0  21373.0   5279.0  681.0   \n",
       "\n",
       "                     Indonesia    Iran  Ireland    Italy  Mexico  Netherlands  \\\n",
       "date                                                                            \n",
       "2020-02-26 00:00:00        NaN    19.0      NaN     12.0     NaN          NaN   \n",
       "2020-02-26 04:48:00        NaN    20.4      NaN     13.0     NaN          NaN   \n",
       "2020-02-26 09:36:00        NaN    21.8      NaN     14.0     NaN          NaN   \n",
       "2020-02-26 14:24:00        NaN    23.2      NaN     15.0     NaN          NaN   \n",
       "2020-02-26 19:12:00        NaN    24.6      NaN     16.0     NaN          NaN   \n",
       "...                        ...     ...      ...      ...     ...          ...   \n",
       "2020-04-21 04:48:00      619.8  5315.8    737.8  24735.4   741.0       3956.8   \n",
       "2020-04-21 09:36:00      623.6  5334.6    745.6  24822.8   770.0       3984.6   \n",
       "2020-04-21 14:24:00      627.4  5353.4    753.4  24910.2   799.0       4012.4   \n",
       "2020-04-21 19:12:00      631.2  5372.2    761.2  24997.6   828.0       4040.2   \n",
       "2020-04-22 00:00:00      635.0  5391.0    769.0  25085.0   857.0       4068.0   \n",
       "\n",
       "                     Portugal    Spain  Sweden  Switzerland  Turkey      USA  \\\n",
       "date                                                                           \n",
       "2020-02-26 00:00:00       NaN      NaN     NaN          NaN     NaN      NaN   \n",
       "2020-02-26 04:48:00       NaN      NaN     NaN          NaN     NaN      NaN   \n",
       "2020-02-26 09:36:00       NaN      NaN     NaN          NaN     NaN      NaN   \n",
       "2020-02-26 14:24:00       NaN      NaN     NaN          NaN     NaN      NaN   \n",
       "2020-02-26 19:12:00       NaN      NaN     NaN          NaN     NaN      NaN   \n",
       "...                       ...      ...     ...          ...     ...      ...   \n",
       "2020-04-21 04:48:00     766.6  21369.0  1799.4       1484.2  2282.4  44883.2   \n",
       "2020-04-21 09:36:00     771.2  21456.0  1833.8       1490.4  2305.8  45319.4   \n",
       "2020-04-21 14:24:00     775.8  21543.0  1868.2       1496.6  2329.2  45755.6   \n",
       "2020-04-21 19:12:00     780.4  21630.0  1902.6       1502.8  2352.6  46191.8   \n",
       "2020-04-22 00:00:00     785.0  21717.0  1937.0       1509.0  2376.0  46628.0   \n",
       "\n",
       "                     United Kingdom  \n",
       "date                                 \n",
       "2020-02-26 00:00:00             NaN  \n",
       "2020-02-26 04:48:00             NaN  \n",
       "2020-02-26 09:36:00             NaN  \n",
       "2020-02-26 14:24:00             NaN  \n",
       "2020-02-26 19:12:00             NaN  \n",
       "...                             ...  \n",
       "2020-04-21 04:48:00         17532.6  \n",
       "2020-04-21 09:36:00         17687.2  \n",
       "2020-04-21 14:24:00         17841.8  \n",
       "2020-04-21 19:12:00         17996.4  \n",
       "2020-04-22 00:00:00         18151.0  \n",
       "\n",
       "[281 rows x 20 columns], interpolate_period=True, steps_per_period=5, period_length=500, period_fmt='%d/%m/%Y', figsize=array([6.5, 3.5]), title=None, fig=<Figure size 936x504 with 1 Axes>, cmap='dark24', tick_label_size=7, period_label=True, period_summary_func=<function current_total at 0x10b568820>, fixed_max=False, dpi=144, writer=None, enable_progress_bar=False, kwargs={}, orientation='h', sort='desc', label_bars=True, bar_label_size=7, n_visible=20, fixed_order=False, perpendicular_bar_func=None)"
      ]
     },
     "execution_count": 2,
     "metadata": {},
     "output_type": "execute_result"
    }
   ],
   "source": [
    "import pandas_alive\n",
    "\n",
    "covid_df = pandas_alive.load_dataset()\n",
    "\n",
    "\n",
    "def current_total(values):\n",
    "    total = values.sum()\n",
    "    s = f'Total : {int(total)}'\n",
    "    return {'x': .85, 'y': .2, 's': s, 'ha': 'right', 'size': 11}\n",
    "\n",
    "\n",
    "covid_df.plot_animated(\n",
    "    filename='examples/summary-func-example.gif', period_summary_func=current_total)\n"
   ]
  },
  {
   "cell_type": "code",
   "execution_count": 3,
   "metadata": {},
   "outputs": [
    {
     "data": {
      "text/html": [
       "<img src=\"examples/summary-func-example.gif\"/>"
      ],
      "text/plain": [
       "<IPython.core.display.Image object>"
      ]
     },
     "execution_count": 3,
     "metadata": {},
     "output_type": "execute_result"
    }
   ],
   "source": [
    "from IPython.display import Image\n",
    "Image(url='examples/summary-func-example.gif')\n"
   ]
  },
  {
   "cell_type": "code",
   "execution_count": 4,
   "metadata": {},
   "outputs": [
    {
     "name": "stdout",
     "output_type": "stream",
     "text": [
      "Generating BarChartRace, plotting ['  Black coal', '  Brown coal', '  Natural gas', '  Oil products', '  Other a', '  Biomass', '  Wind', '  Hydro', 'Large-scale solar PV', '  Small-scale solar PV', '  Geothermal']\n"
     ]
    },
    {
     "data": {
      "text/plain": [
       "BarChartRace(df=                       Black coal    Brown coal    Natural gas  \\\n",
       "index                                                            \n",
       "1989-01-01 00:00:00      87573.00     33594.000      14359.000   \n",
       "1989-03-15 01:12:00      87960.60     34084.800      13641.600   \n",
       "1989-05-27 02:24:00      88348.20     34575.600      12924.200   \n",
       "1989-08-08 03:36:00      88735.80     35066.400      12206.800   \n",
       "1989-10-20 04:48:00      89123.40     35557.200      11489.400   \n",
       "...                           ...           ...            ...   \n",
       "2016-03-14 19:12:00     118936.36     42059.608      51135.678   \n",
       "2016-05-26 20:24:00     119600.42     40561.456      51811.606   \n",
       "2016-08-07 21:36:00     120264.48     39063.304      52487.534   \n",
       "2016-10-19 22:48:00     120928.54     37565.152      53163.462   \n",
       "2017-01-01 00:00:00     121592.60     36067.000      53839.390   \n",
       "\n",
       "                       Oil products    Other a    Biomass       Wind  \\\n",
       "index                                                                  \n",
       "1989-01-01 00:00:00        3552.000        0.0    750.000      0.000   \n",
       "1989-03-15 01:12:00        3520.800        0.0    753.800      0.000   \n",
       "1989-05-27 02:24:00        3489.600        0.0    757.600      0.000   \n",
       "1989-08-08 03:36:00        3458.400        0.0    761.400      0.000   \n",
       "1989-10-20 04:48:00        3427.200        0.0    765.200      0.000   \n",
       "...                             ...        ...        ...        ...   \n",
       "2016-03-14 19:12:00        5270.592        0.0   3507.258  13075.476   \n",
       "2016-05-26 20:24:00        5268.594        0.0   3513.966  13553.962   \n",
       "2016-08-07 21:36:00        5266.596        0.0   3520.674  14032.448   \n",
       "2016-10-19 22:48:00        5264.598        0.0   3527.382  14510.934   \n",
       "2017-01-01 00:00:00        5262.600        0.0   3534.090  14989.420   \n",
       "\n",
       "                         Hydro  Large-scale solar PV    Small-scale solar PV  \\\n",
       "index                                                                          \n",
       "1989-01-01 00:00:00  14880.000                 0.000                    0.00   \n",
       "1989-03-15 01:12:00  15124.600                 0.000                    0.00   \n",
       "1989-05-27 02:24:00  15369.200                 0.000                    0.00   \n",
       "1989-08-08 03:36:00  15613.800                 0.000                    0.00   \n",
       "1989-10-20 04:48:00  15858.400                 0.000                    0.00   \n",
       "...                        ...                   ...                     ...   \n",
       "2016-03-14 19:12:00  16195.676               739.436                 7703.88   \n",
       "2016-05-26 20:24:00  16106.462               806.472                 8008.50   \n",
       "2016-08-07 21:36:00  16017.248               873.508                 8313.12   \n",
       "2016-10-19 22:48:00  15928.034               940.544                 8617.74   \n",
       "2017-01-01 00:00:00  15838.820              1007.580                 8922.36   \n",
       "\n",
       "                       Geothermal  \n",
       "index                              \n",
       "1989-01-01 00:00:00           0.0  \n",
       "1989-03-15 01:12:00           0.0  \n",
       "1989-05-27 02:24:00           0.0  \n",
       "1989-08-08 03:36:00           0.0  \n",
       "1989-10-20 04:48:00           0.0  \n",
       "...                           ...  \n",
       "2016-03-14 19:12:00           0.4  \n",
       "2016-05-26 20:24:00           0.3  \n",
       "2016-08-07 21:36:00           0.2  \n",
       "2016-10-19 22:48:00           0.1  \n",
       "2017-01-01 00:00:00           0.0  \n",
       "\n",
       "[141 rows x 11 columns], interpolate_period=True, steps_per_period=5, period_length=500, period_fmt='%Y', figsize=array([6.5, 3.5]), title='Australian Electricity Generation Sources 1980-2018', fig=<Figure size 936x504 with 1 Axes>, cmap='dark24', tick_label_size=7, period_label=True, period_summary_func=None, fixed_max=False, dpi=144, writer=None, enable_progress_bar=False, kwargs={}, orientation='h', sort='desc', label_bars=True, bar_label_size=7, n_visible=11, fixed_order=False, perpendicular_bar_func=None)"
      ]
     },
     "execution_count": 4,
     "metadata": {},
     "output_type": "execute_result"
    }
   ],
   "source": [
    "import pandas as pd\n",
    "import pandas_alive\n",
    "\n",
    "elec_df = pd.read_csv(\"data/Aus_Elec_Gen_1980_2018.csv\",\n",
    "                      index_col=0, parse_dates=[0], thousands=',')\n",
    "\n",
    "elec_df.fillna(0).plot_animated('examples/example-electricity-generated-australia.gif', period_fmt=\"%Y\",\n",
    "                                title='Australian Electricity Generation Sources 1980-2018')\n"
   ]
  },
  {
   "cell_type": "code",
   "execution_count": 5,
   "metadata": {},
   "outputs": [
    {
     "data": {
      "text/html": [
       "<img src=\"examples/example-electricity-generated-australia.gif\"/>"
      ],
      "text/plain": [
       "<IPython.core.display.Image object>"
      ]
     },
     "execution_count": 5,
     "metadata": {},
     "output_type": "execute_result"
    }
   ],
   "source": [
    "from IPython.display import Image\n",
    "Image(url='examples/example-electricity-generated-australia.gif')\n"
   ]
  },
  {
   "cell_type": "code",
   "execution_count": 6,
   "metadata": {},
   "outputs": [
    {
     "name": "stdout",
     "output_type": "stream",
     "text": [
      "Generating BarChartRace, plotting ['  Black coal', '  Natural gas', '  Brown coal', '  Hydro', '  Wind', '  Small-scale solar PV', '  Oil products', '  Biomass', 'Large-scale solar PV', '  Other a', '  Geothermal']\n"
     ]
    },
    {
     "data": {
      "text/plain": [
       "BarChartRace(df=                       Black coal    Natural gas    Brown coal      Hydro  \\\n",
       "index                                                                       \n",
       "1989-01-01 00:00:00      87573.00      14359.000     33594.000  14880.000   \n",
       "1989-03-15 01:12:00      87960.60      13641.600     34084.800  15124.600   \n",
       "1989-05-27 02:24:00      88348.20      12924.200     34575.600  15369.200   \n",
       "1989-08-08 03:36:00      88735.80      12206.800     35066.400  15613.800   \n",
       "1989-10-20 04:48:00      89123.40      11489.400     35557.200  15858.400   \n",
       "...                           ...            ...           ...        ...   \n",
       "2016-03-14 19:12:00     118936.36      51135.678     42059.608  16195.676   \n",
       "2016-05-26 20:24:00     119600.42      51811.606     40561.456  16106.462   \n",
       "2016-08-07 21:36:00     120264.48      52487.534     39063.304  16017.248   \n",
       "2016-10-19 22:48:00     120928.54      53163.462     37565.152  15928.034   \n",
       "2017-01-01 00:00:00     121592.60      53839.390     36067.000  15838.820   \n",
       "\n",
       "                          Wind    Small-scale solar PV    Oil products  \\\n",
       "index                                                                    \n",
       "1989-01-01 00:00:00      0.000                    0.00        3552.000   \n",
       "1989-03-15 01:12:00      0.000                    0.00        3520.800   \n",
       "1989-05-27 02:24:00      0.000                    0.00        3489.600   \n",
       "1989-08-08 03:36:00      0.000                    0.00        3458.400   \n",
       "1989-10-20 04:48:00      0.000                    0.00        3427.200   \n",
       "...                        ...                     ...             ...   \n",
       "2016-03-14 19:12:00  13075.476                 7703.88        5270.592   \n",
       "2016-05-26 20:24:00  13553.962                 8008.50        5268.594   \n",
       "2016-08-07 21:36:00  14032.448                 8313.12        5266.596   \n",
       "2016-10-19 22:48:00  14510.934                 8617.74        5264.598   \n",
       "2017-01-01 00:00:00  14989.420                 8922.36        5262.600   \n",
       "\n",
       "                       Biomass  Large-scale solar PV    Other a    Geothermal  \n",
       "index                                                                          \n",
       "1989-01-01 00:00:00    750.000                 0.000        0.0           0.0  \n",
       "1989-03-15 01:12:00    753.800                 0.000        0.0           0.0  \n",
       "1989-05-27 02:24:00    757.600                 0.000        0.0           0.0  \n",
       "1989-08-08 03:36:00    761.400                 0.000        0.0           0.0  \n",
       "1989-10-20 04:48:00    765.200                 0.000        0.0           0.0  \n",
       "...                        ...                   ...        ...           ...  \n",
       "2016-03-14 19:12:00   3507.258               739.436        0.0           0.4  \n",
       "2016-05-26 20:24:00   3513.966               806.472        0.0           0.3  \n",
       "2016-08-07 21:36:00   3520.674               873.508        0.0           0.2  \n",
       "2016-10-19 22:48:00   3527.382               940.544        0.0           0.1  \n",
       "2017-01-01 00:00:00   3534.090              1007.580        0.0           0.0  \n",
       "\n",
       "[141 rows x 11 columns], interpolate_period=True, steps_per_period=5, period_length=500, period_fmt='%Y', figsize=array([6.5, 3.5]), title='Australian Electricity Generation Sources 1980-2018', fig=<Figure size 936x504 with 1 Axes>, cmap='dark24', tick_label_size=7, period_label=True, period_summary_func=None, fixed_max=True, dpi=144, writer=None, enable_progress_bar=False, kwargs={}, orientation='h', sort='desc', label_bars=True, bar_label_size=7, n_visible=11, fixed_order=True, perpendicular_bar_func=None)"
      ]
     },
     "execution_count": 6,
     "metadata": {},
     "output_type": "execute_result"
    }
   ],
   "source": [
    "import pandas as pd\n",
    "import pandas_alive\n",
    "\n",
    "elec_df = pd.read_csv(\"data/Aus_Elec_Gen_1980_2018.csv\",\n",
    "                      index_col=0, parse_dates=[0], thousands=',')\n",
    "\n",
    "elec_df.fillna(0).plot_animated('examples/fixed-example.gif', period_fmt=\"%Y\",\n",
    "                                title='Australian Electricity Generation Sources 1980-2018', fixed_max=True, fixed_order=True)\n"
   ]
  },
  {
   "cell_type": "code",
   "execution_count": 7,
   "metadata": {},
   "outputs": [
    {
     "data": {
      "text/html": [
       "<img src=\"examples/fixed-example.gif\"/>"
      ],
      "text/plain": [
       "<IPython.core.display.Image object>"
      ]
     },
     "execution_count": 7,
     "metadata": {},
     "output_type": "execute_result"
    }
   ],
   "source": [
    "from IPython.display import Image\n",
    "Image(url='examples/fixed-example.gif')\n"
   ]
  },
  {
   "cell_type": "code",
   "execution_count": 8,
   "metadata": {},
   "outputs": [
    {
     "name": "stdout",
     "output_type": "stream",
     "text": [
      "Generating BarChartRace, plotting ['Belgium', 'Brazil', 'Canada', 'China', 'France', 'Germany', 'India', 'Indonesia', 'Iran', 'Ireland', 'Italy', 'Mexico', 'Netherlands', 'Portugal', 'Spain', 'Sweden', 'Switzerland', 'Turkey', 'USA', 'United Kingdom']\n"
     ]
    },
    {
     "data": {
      "text/plain": [
       "BarChartRace(df=                     Belgium  Brazil  Canada   China   France  Germany  India  \\\n",
       "date                                                                            \n",
       "2020-02-26 00:00:00      NaN     NaN     NaN  2717.0      2.0      NaN    NaN   \n",
       "2020-02-26 04:48:00      NaN     NaN     NaN  2722.8      2.0      NaN    NaN   \n",
       "2020-02-26 09:36:00      NaN     NaN     NaN  2728.6      2.0      NaN    NaN   \n",
       "2020-02-26 14:24:00      NaN     NaN     NaN  2734.4      2.0      NaN    NaN   \n",
       "2020-02-26 19:12:00      NaN     NaN     NaN  2740.2      2.0      NaN    NaN   \n",
       "...                      ...     ...     ...     ...      ...      ...    ...   \n",
       "2020-04-21 04:48:00   6050.8  2774.0  1941.4  4636.0  20937.8   5082.2  652.2   \n",
       "2020-04-21 09:36:00   6103.6  2807.0  1974.8  4636.0  21046.6   5131.4  659.4   \n",
       "2020-04-21 14:24:00   6156.4  2840.0  2008.2  4636.0  21155.4   5180.6  666.6   \n",
       "2020-04-21 19:12:00   6209.2  2873.0  2041.6  4636.0  21264.2   5229.8  673.8   \n",
       "2020-04-22 00:00:00   6262.0  2906.0  2075.0  4636.0  21373.0   5279.0  681.0   \n",
       "\n",
       "                     Indonesia    Iran  Ireland    Italy  Mexico  Netherlands  \\\n",
       "date                                                                            \n",
       "2020-02-26 00:00:00        NaN    19.0      NaN     12.0     NaN          NaN   \n",
       "2020-02-26 04:48:00        NaN    20.4      NaN     13.0     NaN          NaN   \n",
       "2020-02-26 09:36:00        NaN    21.8      NaN     14.0     NaN          NaN   \n",
       "2020-02-26 14:24:00        NaN    23.2      NaN     15.0     NaN          NaN   \n",
       "2020-02-26 19:12:00        NaN    24.6      NaN     16.0     NaN          NaN   \n",
       "...                        ...     ...      ...      ...     ...          ...   \n",
       "2020-04-21 04:48:00      619.8  5315.8    737.8  24735.4   741.0       3956.8   \n",
       "2020-04-21 09:36:00      623.6  5334.6    745.6  24822.8   770.0       3984.6   \n",
       "2020-04-21 14:24:00      627.4  5353.4    753.4  24910.2   799.0       4012.4   \n",
       "2020-04-21 19:12:00      631.2  5372.2    761.2  24997.6   828.0       4040.2   \n",
       "2020-04-22 00:00:00      635.0  5391.0    769.0  25085.0   857.0       4068.0   \n",
       "\n",
       "                     Portugal    Spain  Sweden  Switzerland  Turkey      USA  \\\n",
       "date                                                                           \n",
       "2020-02-26 00:00:00       NaN      NaN     NaN          NaN     NaN      NaN   \n",
       "2020-02-26 04:48:00       NaN      NaN     NaN          NaN     NaN      NaN   \n",
       "2020-02-26 09:36:00       NaN      NaN     NaN          NaN     NaN      NaN   \n",
       "2020-02-26 14:24:00       NaN      NaN     NaN          NaN     NaN      NaN   \n",
       "2020-02-26 19:12:00       NaN      NaN     NaN          NaN     NaN      NaN   \n",
       "...                       ...      ...     ...          ...     ...      ...   \n",
       "2020-04-21 04:48:00     766.6  21369.0  1799.4       1484.2  2282.4  44883.2   \n",
       "2020-04-21 09:36:00     771.2  21456.0  1833.8       1490.4  2305.8  45319.4   \n",
       "2020-04-21 14:24:00     775.8  21543.0  1868.2       1496.6  2329.2  45755.6   \n",
       "2020-04-21 19:12:00     780.4  21630.0  1902.6       1502.8  2352.6  46191.8   \n",
       "2020-04-22 00:00:00     785.0  21717.0  1937.0       1509.0  2376.0  46628.0   \n",
       "\n",
       "                     United Kingdom  \n",
       "date                                 \n",
       "2020-02-26 00:00:00             NaN  \n",
       "2020-02-26 04:48:00             NaN  \n",
       "2020-02-26 09:36:00             NaN  \n",
       "2020-02-26 14:24:00             NaN  \n",
       "2020-02-26 19:12:00             NaN  \n",
       "...                             ...  \n",
       "2020-04-21 04:48:00         17532.6  \n",
       "2020-04-21 09:36:00         17687.2  \n",
       "2020-04-21 14:24:00         17841.8  \n",
       "2020-04-21 19:12:00         17996.4  \n",
       "2020-04-22 00:00:00         18151.0  \n",
       "\n",
       "[281 rows x 20 columns], interpolate_period=True, steps_per_period=5, period_length=500, period_fmt='%d/%m/%Y', figsize=array([6.5, 3.5]), title=None, fig=<Figure size 936x504 with 1 Axes>, cmap='dark24', tick_label_size=7, period_label=True, period_summary_func=None, fixed_max=False, dpi=144, writer=None, enable_progress_bar=False, kwargs={}, orientation='h', sort='desc', label_bars=True, bar_label_size=7, n_visible=20, fixed_order=False, perpendicular_bar_func='mean')"
      ]
     },
     "execution_count": 8,
     "metadata": {},
     "output_type": "execute_result"
    }
   ],
   "source": [
    "import pandas_alive\n",
    "\n",
    "covid_df = pandas_alive.load_dataset()\n",
    "\n",
    "covid_df.plot_animated(\n",
    "    filename='examples/perpendicular-example.gif', perpendicular_bar_func='mean')\n"
   ]
  },
  {
   "cell_type": "code",
   "execution_count": 9,
   "metadata": {},
   "outputs": [
    {
     "data": {
      "text/html": [
       "<img src=\"examples/perpendicular-example.gif\"/>"
      ],
      "text/plain": [
       "<IPython.core.display.Image object>"
      ]
     },
     "execution_count": 9,
     "metadata": {},
     "output_type": "execute_result"
    }
   ],
   "source": [
    "from IPython.display import Image\n",
    "Image(url='examples/perpendicular-example.gif')\n"
   ]
  },
  {
   "cell_type": "markdown",
   "metadata": {},
   "source": [
    "# Vertical Bar Chart Races\n"
   ]
  },
  {
   "cell_type": "code",
   "execution_count": 10,
   "metadata": {},
   "outputs": [
    {
     "name": "stdout",
     "output_type": "stream",
     "text": [
      "Generating BarChartRace, plotting ['Belgium', 'Brazil', 'Canada', 'China', 'France', 'Germany', 'India', 'Indonesia', 'Iran', 'Ireland', 'Italy', 'Mexico', 'Netherlands', 'Portugal', 'Spain', 'Sweden', 'Switzerland', 'Turkey', 'USA', 'United Kingdom']\n"
     ]
    },
    {
     "data": {
      "text/plain": [
       "BarChartRace(df=                     Belgium  Brazil  Canada   China   France  Germany  India  \\\n",
       "date                                                                            \n",
       "2020-02-26 00:00:00      NaN     NaN     NaN  2717.0      2.0      NaN    NaN   \n",
       "2020-02-26 04:48:00      NaN     NaN     NaN  2722.8      2.0      NaN    NaN   \n",
       "2020-02-26 09:36:00      NaN     NaN     NaN  2728.6      2.0      NaN    NaN   \n",
       "2020-02-26 14:24:00      NaN     NaN     NaN  2734.4      2.0      NaN    NaN   \n",
       "2020-02-26 19:12:00      NaN     NaN     NaN  2740.2      2.0      NaN    NaN   \n",
       "...                      ...     ...     ...     ...      ...      ...    ...   \n",
       "2020-04-21 04:48:00   6050.8  2774.0  1941.4  4636.0  20937.8   5082.2  652.2   \n",
       "2020-04-21 09:36:00   6103.6  2807.0  1974.8  4636.0  21046.6   5131.4  659.4   \n",
       "2020-04-21 14:24:00   6156.4  2840.0  2008.2  4636.0  21155.4   5180.6  666.6   \n",
       "2020-04-21 19:12:00   6209.2  2873.0  2041.6  4636.0  21264.2   5229.8  673.8   \n",
       "2020-04-22 00:00:00   6262.0  2906.0  2075.0  4636.0  21373.0   5279.0  681.0   \n",
       "\n",
       "                     Indonesia    Iran  Ireland    Italy  Mexico  Netherlands  \\\n",
       "date                                                                            \n",
       "2020-02-26 00:00:00        NaN    19.0      NaN     12.0     NaN          NaN   \n",
       "2020-02-26 04:48:00        NaN    20.4      NaN     13.0     NaN          NaN   \n",
       "2020-02-26 09:36:00        NaN    21.8      NaN     14.0     NaN          NaN   \n",
       "2020-02-26 14:24:00        NaN    23.2      NaN     15.0     NaN          NaN   \n",
       "2020-02-26 19:12:00        NaN    24.6      NaN     16.0     NaN          NaN   \n",
       "...                        ...     ...      ...      ...     ...          ...   \n",
       "2020-04-21 04:48:00      619.8  5315.8    737.8  24735.4   741.0       3956.8   \n",
       "2020-04-21 09:36:00      623.6  5334.6    745.6  24822.8   770.0       3984.6   \n",
       "2020-04-21 14:24:00      627.4  5353.4    753.4  24910.2   799.0       4012.4   \n",
       "2020-04-21 19:12:00      631.2  5372.2    761.2  24997.6   828.0       4040.2   \n",
       "2020-04-22 00:00:00      635.0  5391.0    769.0  25085.0   857.0       4068.0   \n",
       "\n",
       "                     Portugal    Spain  Sweden  Switzerland  Turkey      USA  \\\n",
       "date                                                                           \n",
       "2020-02-26 00:00:00       NaN      NaN     NaN          NaN     NaN      NaN   \n",
       "2020-02-26 04:48:00       NaN      NaN     NaN          NaN     NaN      NaN   \n",
       "2020-02-26 09:36:00       NaN      NaN     NaN          NaN     NaN      NaN   \n",
       "2020-02-26 14:24:00       NaN      NaN     NaN          NaN     NaN      NaN   \n",
       "2020-02-26 19:12:00       NaN      NaN     NaN          NaN     NaN      NaN   \n",
       "...                       ...      ...     ...          ...     ...      ...   \n",
       "2020-04-21 04:48:00     766.6  21369.0  1799.4       1484.2  2282.4  44883.2   \n",
       "2020-04-21 09:36:00     771.2  21456.0  1833.8       1490.4  2305.8  45319.4   \n",
       "2020-04-21 14:24:00     775.8  21543.0  1868.2       1496.6  2329.2  45755.6   \n",
       "2020-04-21 19:12:00     780.4  21630.0  1902.6       1502.8  2352.6  46191.8   \n",
       "2020-04-22 00:00:00     785.0  21717.0  1937.0       1509.0  2376.0  46628.0   \n",
       "\n",
       "                     United Kingdom  \n",
       "date                                 \n",
       "2020-02-26 00:00:00             NaN  \n",
       "2020-02-26 04:48:00             NaN  \n",
       "2020-02-26 09:36:00             NaN  \n",
       "2020-02-26 14:24:00             NaN  \n",
       "2020-02-26 19:12:00             NaN  \n",
       "...                             ...  \n",
       "2020-04-21 04:48:00         17532.6  \n",
       "2020-04-21 09:36:00         17687.2  \n",
       "2020-04-21 14:24:00         17841.8  \n",
       "2020-04-21 19:12:00         17996.4  \n",
       "2020-04-22 00:00:00         18151.0  \n",
       "\n",
       "[281 rows x 20 columns], interpolate_period=True, steps_per_period=5, period_length=500, period_fmt='%d/%m/%Y', figsize=array([6.5, 3.5]), title=None, fig=<Figure size 936x504 with 1 Axes>, cmap='dark24', tick_label_size=7, period_label=True, period_summary_func=None, fixed_max=False, dpi=144, writer=None, enable_progress_bar=False, kwargs={}, orientation='v', sort='desc', label_bars=True, bar_label_size=7, n_visible=20, fixed_order=False, perpendicular_bar_func=None)"
      ]
     },
     "execution_count": 10,
     "metadata": {},
     "output_type": "execute_result"
    }
   ],
   "source": [
    "import pandas_alive\n",
    "\n",
    "covid_df = pandas_alive.load_dataset()\n",
    "\n",
    "covid_df.plot_animated(\n",
    "    filename='examples/example-barv-chart.gif', orientation='v')\n"
   ]
  },
  {
   "cell_type": "code",
   "execution_count": 11,
   "metadata": {},
   "outputs": [
    {
     "data": {
      "text/html": [
       "<img src=\"examples/example-barv-chart.gif\"/>"
      ],
      "text/plain": [
       "<IPython.core.display.Image object>"
      ]
     },
     "execution_count": 11,
     "metadata": {},
     "output_type": "execute_result"
    }
   ],
   "source": [
    "from IPython.display import Image\n",
    "Image(url='examples/example-barv-chart.gif')\n"
   ]
  },
  {
   "cell_type": "markdown",
   "metadata": {},
   "source": [
    "# Line Charts\n",
    "With as many lines as data columns in the DataFrame."
   ]
  },
  {
   "cell_type": "code",
   "execution_count": 12,
   "metadata": {},
   "outputs": [
    {
     "name": "stdout",
     "output_type": "stream",
     "text": [
      "Generating LineChart, plotting ['Belgium', 'Brazil', 'Canada', 'China', 'France', 'Germany', 'India', 'Indonesia', 'Iran', 'Ireland', 'Italy', 'Mexico', 'Netherlands', 'Portugal', 'Spain', 'Sweden', 'Switzerland', 'Turkey', 'USA', 'United Kingdom']\n"
     ]
    },
    {
     "data": {
      "text/plain": [
       "LineChart(df=                     Belgium  Brazil  Canada  China  France  Germany  India  \\\n",
       "date                                                                          \n",
       "2020-02-26 00:00:00      0.0     0.0     0.0    0.0     0.0      0.0    0.0   \n",
       "2020-02-26 04:48:00      0.0     0.0     0.0    5.8     0.0      0.0    0.0   \n",
       "2020-02-26 09:36:00      0.0     0.0     0.0   11.6     0.0      0.0    0.0   \n",
       "2020-02-26 14:24:00      0.0     0.0     0.0   17.4     0.0      0.0    0.0   \n",
       "2020-02-26 19:12:00      0.0     0.0     0.0   23.2     0.0      0.0    0.0   \n",
       "...                      ...     ...     ...    ...     ...      ...    ...   \n",
       "2020-04-21 04:48:00    188.8   156.2   179.8    0.0   538.4    186.0   49.6   \n",
       "2020-04-21 09:36:00    207.6   158.4   176.6    0.0   539.8    201.0   46.2   \n",
       "2020-04-21 14:24:00    226.4   160.6   173.4    0.0   541.2    216.0   42.8   \n",
       "2020-04-21 19:12:00    245.2   162.8   170.2    0.0   542.6    231.0   39.4   \n",
       "2020-04-22 00:00:00    264.0   165.0   167.0    0.0   544.0    246.0   36.0   \n",
       "\n",
       "                     Indonesia  Iran  Ireland  Italy  Mexico  Netherlands  \\\n",
       "date                                                                        \n",
       "2020-02-26 00:00:00        0.0   0.0      0.0    0.0     0.0          0.0   \n",
       "2020-02-26 04:48:00        0.0   1.4      0.0    1.0     0.0          0.0   \n",
       "2020-02-26 09:36:00        0.0   2.8      0.0    2.0     0.0          0.0   \n",
       "2020-02-26 14:24:00        0.0   4.2      0.0    3.0     0.0          0.0   \n",
       "2020-02-26 19:12:00        0.0   5.6      0.0    4.0     0.0          0.0   \n",
       "...                        ...   ...      ...    ...     ...          ...   \n",
       "2020-04-21 04:48:00       24.6  89.2     42.2  514.6    49.8        159.8   \n",
       "2020-04-21 09:36:00       23.2  90.4     41.4  495.2    73.6        154.6   \n",
       "2020-04-21 14:24:00       21.8  91.6     40.6  475.8    97.4        149.4   \n",
       "2020-04-21 19:12:00       20.4  92.8     39.8  456.4   121.2        144.2   \n",
       "2020-04-22 00:00:00       19.0  94.0     39.0  437.0   145.0        139.0   \n",
       "\n",
       "                     Portugal  Spain  Sweden  Switzerland  Turkey     USA  \\\n",
       "date                                                                        \n",
       "2020-02-26 00:00:00       0.0    0.0     0.0          0.0     0.0     0.0   \n",
       "2020-02-26 04:48:00       0.0    0.0     0.0          0.0     0.0     0.0   \n",
       "2020-02-26 09:36:00       0.0    0.0     0.0          0.0     0.0     0.0   \n",
       "2020-02-26 14:24:00       0.0    0.0     0.0          0.0     0.0     0.0   \n",
       "2020-02-26 19:12:00       0.0    0.0     0.0          0.0     0.0     0.0   \n",
       "...                       ...    ...     ...          ...     ...     ...   \n",
       "2020-04-21 04:48:00      26.2  431.0   182.4         45.4   118.6  2316.2   \n",
       "2020-04-21 09:36:00      25.4  432.0   179.8         41.8   118.2  2282.4   \n",
       "2020-04-21 14:24:00      24.6  433.0   177.2         38.2   117.8  2248.6   \n",
       "2020-04-21 19:12:00      23.8  434.0   174.6         34.6   117.4  2214.8   \n",
       "2020-04-22 00:00:00      23.0  435.0   172.0         31.0   117.0  2181.0   \n",
       "\n",
       "                     United Kingdom  \n",
       "date                                 \n",
       "2020-02-26 00:00:00             0.0  \n",
       "2020-02-26 04:48:00             0.0  \n",
       "2020-02-26 09:36:00             0.0  \n",
       "2020-02-26 14:24:00             0.0  \n",
       "2020-02-26 19:12:00             0.0  \n",
       "...                             ...  \n",
       "2020-04-21 04:48:00           817.0  \n",
       "2020-04-21 09:36:00           806.0  \n",
       "2020-04-21 14:24:00           795.0  \n",
       "2020-04-21 19:12:00           784.0  \n",
       "2020-04-22 00:00:00           773.0  \n",
       "\n",
       "[281 rows x 20 columns], interpolate_period=True, steps_per_period=5, period_length=500, period_fmt='%d/%m/%Y', figsize=array([6.5, 3.5]), title=None, fig=<Figure size 936x504 with 1 Axes>, cmap='dark24', tick_label_size=7, period_label={'x': 0.25, 'y': 0.9}, period_summary_func=None, fixed_max=False, dpi=144, writer=None, enable_progress_bar=False, kwargs={}, line_width=2, label_events=None, fill_under_line_color=None, add_legend=True)"
      ]
     },
     "execution_count": 12,
     "metadata": {},
     "output_type": "execute_result"
    }
   ],
   "source": [
    "import pandas_alive\n",
    "\n",
    "covid_df = pandas_alive.load_dataset()\n",
    "\n",
    "covid_df.diff().fillna(0).plot_animated(filename='examples/example-line-chart.gif',\n",
    "                                        kind='line', period_label={'x': 0.25, 'y': 0.9})\n"
   ]
  },
  {
   "cell_type": "code",
   "execution_count": 13,
   "metadata": {},
   "outputs": [
    {
     "data": {
      "text/html": [
       "<img src=\"examples/example-line-chart.gif\"/>"
      ],
      "text/plain": [
       "<IPython.core.display.Image object>"
      ]
     },
     "execution_count": 13,
     "metadata": {},
     "output_type": "execute_result"
    }
   ],
   "source": [
    "from IPython.display import Image\n",
    "Image(url='examples/example-line-chart.gif')\n"
   ]
  },
  {
   "cell_type": "markdown",
   "metadata": {},
   "source": [
    "# Bar Charts\n",
    "Similar to line charts with time as the x-axis.\n",
    "\n",
    "\n"
   ]
  },
  {
   "cell_type": "code",
   "execution_count": 15,
   "metadata": {},
   "outputs": [
    {
     "name": "stdout",
     "output_type": "stream",
     "text": [
      "Collecting tqdm\n",
      "  Downloading tqdm-4.64.1-py2.py3-none-any.whl (78 kB)\n",
      "\u001b[2K     \u001b[90m━━━━━━━━━━━━━━━━━━━━━━━━━━━━━━━━━━━━━━━━\u001b[0m \u001b[32m78.5/78.5 kB\u001b[0m \u001b[31m1.5 MB/s\u001b[0m eta \u001b[36m0:00:00\u001b[0ma \u001b[36m0:00:01\u001b[0m\n",
      "\u001b[?25hInstalling collected packages: tqdm\n",
      "Successfully installed tqdm-4.64.1\n"
     ]
    }
   ],
   "source": [
    "!pip install tqdm"
   ]
  },
  {
   "cell_type": "code",
   "execution_count": 16,
   "metadata": {},
   "outputs": [
    {
     "name": "stdout",
     "output_type": "stream",
     "text": [
      "Generating BarChart, plotting ['0']\n"
     ]
    },
    {
     "data": {
      "application/vnd.jupyter.widget-view+json": {
       "model_id": "a871b506154943abb2953dbc895e913e",
       "version_major": 2,
       "version_minor": 0
      },
      "text/plain": [
       "  0%|          | 0/113 [00:00<?, ?it/s]"
      ]
     },
     "metadata": {},
     "output_type": "display_data"
    },
    {
     "data": {
      "text/plain": [
       "BarChart(df=                            0\n",
       "date                         \n",
       "2020-02-26 00:00:00    2750.0\n",
       "2020-02-26 12:00:00    2770.5\n",
       "2020-02-27 00:00:00    2791.0\n",
       "2020-02-27 12:00:00    2819.0\n",
       "2020-02-28 00:00:00    2847.0\n",
       "...                       ...\n",
       "2020-04-20 00:00:00  160955.0\n",
       "2020-04-20 12:00:00  164024.0\n",
       "2020-04-21 00:00:00  167093.0\n",
       "2020-04-21 12:00:00  170106.5\n",
       "2020-04-22 00:00:00  173120.0\n",
       "\n",
       "[113 rows x 1 columns], interpolate_period=True, steps_per_period=2, period_length=200, period_fmt='%d/%m/%Y', figsize=array([6.5, 3.5]), title=None, fig=<Figure size 936x504 with 1 Axes>, cmap='dark24', tick_label_size=7, period_label={'x': 0.1, 'y': 0.9}, period_summary_func=None, fixed_max=False, dpi=144, writer=None, enable_progress_bar=True, kwargs={})"
      ]
     },
     "execution_count": 16,
     "metadata": {},
     "output_type": "execute_result"
    }
   ],
   "source": [
    "import pandas_alive\n",
    "\n",
    "covid_df = pandas_alive.load_dataset()\n",
    "\n",
    "covid_df.sum(axis=1).fillna(0).plot_animated(filename='examples/example-bar-chart.gif', kind='bar',\n",
    "                                             period_label={'x': 0.1, 'y': 0.9},\n",
    "                                             enable_progress_bar=True, steps_per_period=2, interpolate_period=True, period_length=200\n",
    "                                             )\n"
   ]
  },
  {
   "cell_type": "code",
   "execution_count": 17,
   "metadata": {},
   "outputs": [
    {
     "data": {
      "text/html": [
       "<img src=\"examples/example-bar-chart.gif\"/>"
      ],
      "text/plain": [
       "<IPython.core.display.Image object>"
      ]
     },
     "execution_count": 17,
     "metadata": {},
     "output_type": "execute_result"
    }
   ],
   "source": [
    "from IPython.display import Image\n",
    "Image(url='examples/example-bar-chart.gif')\n"
   ]
  },
  {
   "cell_type": "markdown",
   "metadata": {},
   "source": [
    "# Scatter Charts\n"
   ]
  },
  {
   "cell_type": "code",
   "execution_count": 18,
   "metadata": {},
   "outputs": [
    {
     "name": "stdout",
     "output_type": "stream",
     "text": [
      "Generating ScatterChart, plotting ['Minimum temperature (Degree C)', 'Maximum temperature (Degree C)']\n"
     ]
    },
    {
     "data": {
      "text/plain": [
       "ScatterChart(df=                               Minimum temperature (Degree C)  \\\n",
       "Timestamp                                                       \n",
       "1957-12-31 00:00:00.000000000                       14.502727   \n",
       "1958-03-14 01:13:08.571428571                       14.628573   \n",
       "1958-05-26 02:26:17.142857142                       14.754419   \n",
       "1958-08-07 03:39:25.714285712                       14.880264   \n",
       "1958-10-19 04:52:34.285714284                       15.006110   \n",
       "...                                                       ...   \n",
       "2020-03-13 19:07:25.714285568                       16.157607   \n",
       "2020-05-25 20:20:34.285714176                       16.816040   \n",
       "2020-08-06 21:33:42.857142784                       17.474473   \n",
       "2020-10-18 22:46:51.428571392                       18.132906   \n",
       "2020-12-31 00:00:00.000000000                       18.791339   \n",
       "\n",
       "                               Maximum temperature (Degree C)  \n",
       "Timestamp                                                      \n",
       "1957-12-31 00:00:00.000000000                       21.561212  \n",
       "1958-03-14 01:13:08.571428571                       21.525994  \n",
       "1958-05-26 02:26:17.142857142                       21.490777  \n",
       "1958-08-07 03:39:25.714285712                       21.455559  \n",
       "1958-10-19 04:52:34.285714284                       21.420342  \n",
       "...                                                       ...  \n",
       "2020-03-13 19:07:25.714285568                       23.516883  \n",
       "2020-05-25 20:20:34.285714176                       23.885281  \n",
       "2020-08-06 21:33:42.857142784                       24.253680  \n",
       "2020-10-18 22:46:51.428571392                       24.622078  \n",
       "2020-12-31 00:00:00.000000000                       24.990476  \n",
       "\n",
       "[316 rows x 2 columns], interpolate_period=True, steps_per_period=5, period_length=500, period_fmt='%d/%m/%Y', figsize=array([6.5, 3.5]), title='Max & Min Temperature Newcastle, Australia', fig=<Figure size 936x504 with 1 Axes>, cmap='dark24', tick_label_size=7, period_label=True, period_summary_func=None, fixed_max=False, dpi=144, writer=None, enable_progress_bar=False, kwargs={}, size=2, add_legend=True)"
      ]
     },
     "execution_count": 18,
     "metadata": {},
     "output_type": "execute_result"
    }
   ],
   "source": [
    "import pandas as pd\n",
    "import pandas_alive\n",
    "\n",
    "max_temp_df = pd.read_csv(\n",
    "    \"data/Newcastle_Australia_Max_Temps.csv\",\n",
    "    parse_dates={\"Timestamp\": [\"Year\", \"Month\", \"Day\"]},\n",
    ")\n",
    "min_temp_df = pd.read_csv(\n",
    "    \"data/Newcastle_Australia_Min_Temps.csv\",\n",
    "    parse_dates={\"Timestamp\": [\"Year\", \"Month\", \"Day\"]},\n",
    ")\n",
    "\n",
    "merged_temp_df = pd.merge_asof(max_temp_df, min_temp_df, on=\"Timestamp\")\n",
    "\n",
    "merged_temp_df.index = pd.to_datetime(\n",
    "    merged_temp_df[\"Timestamp\"].dt.strftime('%Y/%m/%d'))\n",
    "\n",
    "keep_columns = [\n",
    "    \"Minimum temperature (Degree C)\", \"Maximum temperature (Degree C)\"]\n",
    "\n",
    "merged_temp_df[keep_columns].resample(\"Y\").mean().plot_animated(\n",
    "    filename='examples/example-scatter-chart.gif', kind=\"scatter\", title='Max & Min Temperature Newcastle, Australia')\n"
   ]
  },
  {
   "cell_type": "code",
   "execution_count": 19,
   "metadata": {},
   "outputs": [
    {
     "data": {
      "text/html": [
       "<img src=\"examples/example-scatter-chart.gif\"/>"
      ],
      "text/plain": [
       "<IPython.core.display.Image object>"
      ]
     },
     "execution_count": 19,
     "metadata": {},
     "output_type": "execute_result"
    }
   ],
   "source": [
    "from IPython.display import Image\n",
    "Image(url='examples/example-scatter-chart.gif')\n"
   ]
  },
  {
   "cell_type": "markdown",
   "metadata": {},
   "source": [
    "# Pie Charts\n"
   ]
  },
  {
   "cell_type": "code",
   "execution_count": 21,
   "metadata": {},
   "outputs": [
    {
     "name": "stdout",
     "output_type": "stream",
     "text": [
      "Generating PieChart, plotting ['Belgium', 'Brazil', 'Canada', 'China', 'France', 'Germany', 'India', 'Indonesia', 'Iran', 'Ireland', 'Italy', 'Mexico', 'Netherlands', 'Portugal', 'Spain', 'Sweden', 'Switzerland', 'Turkey', 'USA', 'United Kingdom']\n"
     ]
    },
    {
     "data": {
      "text/plain": [
       "PieChart(df=                     Belgium  Brazil  Canada   China   France  Germany  India  \\\n",
       "date                                                                            \n",
       "2020-02-26 00:00:00      NaN     NaN     NaN  2717.0      2.0      NaN    NaN   \n",
       "2020-02-26 04:48:00      NaN     NaN     NaN  2722.8      2.0      NaN    NaN   \n",
       "2020-02-26 09:36:00      NaN     NaN     NaN  2728.6      2.0      NaN    NaN   \n",
       "2020-02-26 14:24:00      NaN     NaN     NaN  2734.4      2.0      NaN    NaN   \n",
       "2020-02-26 19:12:00      NaN     NaN     NaN  2740.2      2.0      NaN    NaN   \n",
       "...                      ...     ...     ...     ...      ...      ...    ...   \n",
       "2020-04-21 04:48:00   6050.8  2774.0  1941.4  4636.0  20937.8   5082.2  652.2   \n",
       "2020-04-21 09:36:00   6103.6  2807.0  1974.8  4636.0  21046.6   5131.4  659.4   \n",
       "2020-04-21 14:24:00   6156.4  2840.0  2008.2  4636.0  21155.4   5180.6  666.6   \n",
       "2020-04-21 19:12:00   6209.2  2873.0  2041.6  4636.0  21264.2   5229.8  673.8   \n",
       "2020-04-22 00:00:00   6262.0  2906.0  2075.0  4636.0  21373.0   5279.0  681.0   \n",
       "\n",
       "                     Indonesia    Iran  Ireland    Italy  Mexico  Netherlands  \\\n",
       "date                                                                            \n",
       "2020-02-26 00:00:00        NaN    19.0      NaN     12.0     NaN          NaN   \n",
       "2020-02-26 04:48:00        NaN    20.4      NaN     13.0     NaN          NaN   \n",
       "2020-02-26 09:36:00        NaN    21.8      NaN     14.0     NaN          NaN   \n",
       "2020-02-26 14:24:00        NaN    23.2      NaN     15.0     NaN          NaN   \n",
       "2020-02-26 19:12:00        NaN    24.6      NaN     16.0     NaN          NaN   \n",
       "...                        ...     ...      ...      ...     ...          ...   \n",
       "2020-04-21 04:48:00      619.8  5315.8    737.8  24735.4   741.0       3956.8   \n",
       "2020-04-21 09:36:00      623.6  5334.6    745.6  24822.8   770.0       3984.6   \n",
       "2020-04-21 14:24:00      627.4  5353.4    753.4  24910.2   799.0       4012.4   \n",
       "2020-04-21 19:12:00      631.2  5372.2    761.2  24997.6   828.0       4040.2   \n",
       "2020-04-22 00:00:00      635.0  5391.0    769.0  25085.0   857.0       4068.0   \n",
       "\n",
       "                     Portugal    Spain  Sweden  Switzerland  Turkey      USA  \\\n",
       "date                                                                           \n",
       "2020-02-26 00:00:00       NaN      NaN     NaN          NaN     NaN      NaN   \n",
       "2020-02-26 04:48:00       NaN      NaN     NaN          NaN     NaN      NaN   \n",
       "2020-02-26 09:36:00       NaN      NaN     NaN          NaN     NaN      NaN   \n",
       "2020-02-26 14:24:00       NaN      NaN     NaN          NaN     NaN      NaN   \n",
       "2020-02-26 19:12:00       NaN      NaN     NaN          NaN     NaN      NaN   \n",
       "...                       ...      ...     ...          ...     ...      ...   \n",
       "2020-04-21 04:48:00     766.6  21369.0  1799.4       1484.2  2282.4  44883.2   \n",
       "2020-04-21 09:36:00     771.2  21456.0  1833.8       1490.4  2305.8  45319.4   \n",
       "2020-04-21 14:24:00     775.8  21543.0  1868.2       1496.6  2329.2  45755.6   \n",
       "2020-04-21 19:12:00     780.4  21630.0  1902.6       1502.8  2352.6  46191.8   \n",
       "2020-04-22 00:00:00     785.0  21717.0  1937.0       1509.0  2376.0  46628.0   \n",
       "\n",
       "                     United Kingdom  \n",
       "date                                 \n",
       "2020-02-26 00:00:00             NaN  \n",
       "2020-02-26 04:48:00             NaN  \n",
       "2020-02-26 09:36:00             NaN  \n",
       "2020-02-26 14:24:00             NaN  \n",
       "2020-02-26 19:12:00             NaN  \n",
       "...                             ...  \n",
       "2020-04-21 04:48:00         17532.6  \n",
       "2020-04-21 09:36:00         17687.2  \n",
       "2020-04-21 14:24:00         17841.8  \n",
       "2020-04-21 19:12:00         17996.4  \n",
       "2020-04-22 00:00:00         18151.0  \n",
       "\n",
       "[281 rows x 20 columns], interpolate_period=True, steps_per_period=5, period_length=500, period_fmt='%d/%m/%Y', figsize=array([6.5, 3.5]), title=None, fig=<Figure size 936x504 with 1 Axes>, cmap='dark24', tick_label_size=7, period_label={'x': 0, 'y': 0}, period_summary_func=None, fixed_max=False, dpi=144, writer=None, enable_progress_bar=False, kwargs={'rotatelabels': True})"
      ]
     },
     "execution_count": 21,
     "metadata": {},
     "output_type": "execute_result"
    }
   ],
   "source": [
    "import pandas_alive\n",
    "\n",
    "covid_df = pandas_alive.load_dataset()\n",
    "\n",
    "\n",
    "covid_df.plot_animated(filename='examples/example-pie-chart.gif',\n",
    "                       kind=\"pie\", rotatelabels=True, period_label={'x': 0, 'y': 0})"
   ]
  },
  {
   "cell_type": "code",
   "execution_count": 22,
   "metadata": {},
   "outputs": [
    {
     "data": {
      "text/html": [
       "<img src=\"examples/example-pie-chart.gif\"/>"
      ],
      "text/plain": [
       "<IPython.core.display.Image object>"
      ]
     },
     "execution_count": 22,
     "metadata": {},
     "output_type": "execute_result"
    }
   ],
   "source": [
    "from IPython.display import Image\n",
    "Image(url='examples/example-pie-chart.gif')\n"
   ]
  },
  {
   "cell_type": "markdown",
   "metadata": {},
   "source": [
    "# Bubble Charts\n",
    "Bubble charts are generated from a multi-indexed dataframes. Where the index is the time period (optional) and the axes are defined with x_data_label & y_data_label which should be passed a string in the level 0 column labels.\n",
    "\n",
    "See an example multi-indexed dataframe at: https://github.com/JackMcKew/pandas_alive/tree/master/data/multi.csv\n",
    "\n",
    "When you set color_data_label= to a df column name, pandas_alive will automatically add a colorbar.\n",
    "\n"
   ]
  },
  {
   "cell_type": "code",
   "execution_count": 23,
   "metadata": {},
   "outputs": [
    {
     "data": {
      "text/html": [
       "<div>\n",
       "<style scoped>\n",
       "    .dataframe tbody tr th:only-of-type {\n",
       "        vertical-align: middle;\n",
       "    }\n",
       "\n",
       "    .dataframe tbody tr th {\n",
       "        vertical-align: top;\n",
       "    }\n",
       "\n",
       "    .dataframe thead tr th {\n",
       "        text-align: left;\n",
       "    }\n",
       "\n",
       "    .dataframe thead tr:last-of-type th {\n",
       "        text-align: right;\n",
       "    }\n",
       "</style>\n",
       "<table border=\"1\" class=\"dataframe\">\n",
       "  <thead>\n",
       "    <tr>\n",
       "      <th></th>\n",
       "      <th colspan=\"10\" halign=\"left\">Cases</th>\n",
       "      <th>...</th>\n",
       "      <th colspan=\"10\" halign=\"left\">Longitude</th>\n",
       "    </tr>\n",
       "    <tr>\n",
       "      <th>postcode</th>\n",
       "      <th>0</th>\n",
       "      <th>1871</th>\n",
       "      <th>2000</th>\n",
       "      <th>2007</th>\n",
       "      <th>2008</th>\n",
       "      <th>2009</th>\n",
       "      <th>2010</th>\n",
       "      <th>2011</th>\n",
       "      <th>2012</th>\n",
       "      <th>2015</th>\n",
       "      <th>...</th>\n",
       "      <th>5061</th>\n",
       "      <th>5092</th>\n",
       "      <th>5114</th>\n",
       "      <th>5158</th>\n",
       "      <th>7008</th>\n",
       "      <th>7170</th>\n",
       "      <th>7320</th>\n",
       "      <th>8888</th>\n",
       "      <th>9990</th>\n",
       "      <th>9999</th>\n",
       "    </tr>\n",
       "    <tr>\n",
       "      <th>notification_date</th>\n",
       "      <th></th>\n",
       "      <th></th>\n",
       "      <th></th>\n",
       "      <th></th>\n",
       "      <th></th>\n",
       "      <th></th>\n",
       "      <th></th>\n",
       "      <th></th>\n",
       "      <th></th>\n",
       "      <th></th>\n",
       "      <th></th>\n",
       "      <th></th>\n",
       "      <th></th>\n",
       "      <th></th>\n",
       "      <th></th>\n",
       "      <th></th>\n",
       "      <th></th>\n",
       "      <th></th>\n",
       "      <th></th>\n",
       "      <th></th>\n",
       "      <th></th>\n",
       "    </tr>\n",
       "  </thead>\n",
       "  <tbody>\n",
       "    <tr>\n",
       "      <th>22/01/2020</th>\n",
       "      <td>0</td>\n",
       "      <td>0</td>\n",
       "      <td>0</td>\n",
       "      <td>0</td>\n",
       "      <td>0</td>\n",
       "      <td>0</td>\n",
       "      <td>0</td>\n",
       "      <td>0</td>\n",
       "      <td>0</td>\n",
       "      <td>0</td>\n",
       "      <td>...</td>\n",
       "      <td>153.592843</td>\n",
       "      <td>153.592843</td>\n",
       "      <td>153.592843</td>\n",
       "      <td>153.592843</td>\n",
       "      <td>153.592843</td>\n",
       "      <td>153.592843</td>\n",
       "      <td>153.592843</td>\n",
       "      <td>153.592843</td>\n",
       "      <td>153.592843</td>\n",
       "      <td>153.592843</td>\n",
       "    </tr>\n",
       "    <tr>\n",
       "      <th>24/01/2020</th>\n",
       "      <td>0</td>\n",
       "      <td>0</td>\n",
       "      <td>0</td>\n",
       "      <td>0</td>\n",
       "      <td>0</td>\n",
       "      <td>0</td>\n",
       "      <td>0</td>\n",
       "      <td>0</td>\n",
       "      <td>0</td>\n",
       "      <td>0</td>\n",
       "      <td>...</td>\n",
       "      <td>153.592843</td>\n",
       "      <td>153.592843</td>\n",
       "      <td>153.592843</td>\n",
       "      <td>153.592843</td>\n",
       "      <td>153.592843</td>\n",
       "      <td>153.592843</td>\n",
       "      <td>153.592843</td>\n",
       "      <td>153.592843</td>\n",
       "      <td>153.592843</td>\n",
       "      <td>153.592843</td>\n",
       "    </tr>\n",
       "    <tr>\n",
       "      <th>25/01/2020</th>\n",
       "      <td>0</td>\n",
       "      <td>0</td>\n",
       "      <td>0</td>\n",
       "      <td>0</td>\n",
       "      <td>0</td>\n",
       "      <td>0</td>\n",
       "      <td>0</td>\n",
       "      <td>0</td>\n",
       "      <td>0</td>\n",
       "      <td>0</td>\n",
       "      <td>...</td>\n",
       "      <td>153.592843</td>\n",
       "      <td>153.592843</td>\n",
       "      <td>153.592843</td>\n",
       "      <td>153.592843</td>\n",
       "      <td>153.592843</td>\n",
       "      <td>153.592843</td>\n",
       "      <td>153.592843</td>\n",
       "      <td>153.592843</td>\n",
       "      <td>153.592843</td>\n",
       "      <td>153.592843</td>\n",
       "    </tr>\n",
       "    <tr>\n",
       "      <th>30/01/2020</th>\n",
       "      <td>0</td>\n",
       "      <td>0</td>\n",
       "      <td>0</td>\n",
       "      <td>0</td>\n",
       "      <td>0</td>\n",
       "      <td>0</td>\n",
       "      <td>0</td>\n",
       "      <td>0</td>\n",
       "      <td>0</td>\n",
       "      <td>0</td>\n",
       "      <td>...</td>\n",
       "      <td>153.592843</td>\n",
       "      <td>153.592843</td>\n",
       "      <td>153.592843</td>\n",
       "      <td>153.592843</td>\n",
       "      <td>153.592843</td>\n",
       "      <td>153.592843</td>\n",
       "      <td>153.592843</td>\n",
       "      <td>153.592843</td>\n",
       "      <td>153.592843</td>\n",
       "      <td>153.592843</td>\n",
       "    </tr>\n",
       "    <tr>\n",
       "      <th>21/02/2020</th>\n",
       "      <td>0</td>\n",
       "      <td>0</td>\n",
       "      <td>0</td>\n",
       "      <td>0</td>\n",
       "      <td>0</td>\n",
       "      <td>0</td>\n",
       "      <td>1</td>\n",
       "      <td>0</td>\n",
       "      <td>0</td>\n",
       "      <td>0</td>\n",
       "      <td>...</td>\n",
       "      <td>153.592843</td>\n",
       "      <td>153.592843</td>\n",
       "      <td>153.592843</td>\n",
       "      <td>153.592843</td>\n",
       "      <td>153.592843</td>\n",
       "      <td>153.592843</td>\n",
       "      <td>153.592843</td>\n",
       "      <td>153.592843</td>\n",
       "      <td>153.592843</td>\n",
       "      <td>153.592843</td>\n",
       "    </tr>\n",
       "    <tr>\n",
       "      <th>...</th>\n",
       "      <td>...</td>\n",
       "      <td>...</td>\n",
       "      <td>...</td>\n",
       "      <td>...</td>\n",
       "      <td>...</td>\n",
       "      <td>...</td>\n",
       "      <td>...</td>\n",
       "      <td>...</td>\n",
       "      <td>...</td>\n",
       "      <td>...</td>\n",
       "      <td>...</td>\n",
       "      <td>...</td>\n",
       "      <td>...</td>\n",
       "      <td>...</td>\n",
       "      <td>...</td>\n",
       "      <td>...</td>\n",
       "      <td>...</td>\n",
       "      <td>...</td>\n",
       "      <td>...</td>\n",
       "      <td>...</td>\n",
       "      <td>...</td>\n",
       "    </tr>\n",
       "    <tr>\n",
       "      <th>5/05/2020</th>\n",
       "      <td>0</td>\n",
       "      <td>0</td>\n",
       "      <td>0</td>\n",
       "      <td>0</td>\n",
       "      <td>0</td>\n",
       "      <td>0</td>\n",
       "      <td>0</td>\n",
       "      <td>0</td>\n",
       "      <td>0</td>\n",
       "      <td>0</td>\n",
       "      <td>...</td>\n",
       "      <td>153.592843</td>\n",
       "      <td>153.592843</td>\n",
       "      <td>153.592843</td>\n",
       "      <td>153.592843</td>\n",
       "      <td>153.592843</td>\n",
       "      <td>153.592843</td>\n",
       "      <td>153.592843</td>\n",
       "      <td>153.592843</td>\n",
       "      <td>153.592843</td>\n",
       "      <td>153.592843</td>\n",
       "    </tr>\n",
       "    <tr>\n",
       "      <th>6/05/2020</th>\n",
       "      <td>0</td>\n",
       "      <td>0</td>\n",
       "      <td>0</td>\n",
       "      <td>0</td>\n",
       "      <td>0</td>\n",
       "      <td>0</td>\n",
       "      <td>0</td>\n",
       "      <td>0</td>\n",
       "      <td>0</td>\n",
       "      <td>0</td>\n",
       "      <td>...</td>\n",
       "      <td>153.592843</td>\n",
       "      <td>153.592843</td>\n",
       "      <td>153.592843</td>\n",
       "      <td>153.592843</td>\n",
       "      <td>153.592843</td>\n",
       "      <td>153.592843</td>\n",
       "      <td>153.592843</td>\n",
       "      <td>153.592843</td>\n",
       "      <td>153.592843</td>\n",
       "      <td>153.592843</td>\n",
       "    </tr>\n",
       "    <tr>\n",
       "      <th>7/05/2020</th>\n",
       "      <td>0</td>\n",
       "      <td>0</td>\n",
       "      <td>0</td>\n",
       "      <td>0</td>\n",
       "      <td>0</td>\n",
       "      <td>0</td>\n",
       "      <td>0</td>\n",
       "      <td>0</td>\n",
       "      <td>0</td>\n",
       "      <td>0</td>\n",
       "      <td>...</td>\n",
       "      <td>153.592843</td>\n",
       "      <td>153.592843</td>\n",
       "      <td>153.592843</td>\n",
       "      <td>153.592843</td>\n",
       "      <td>153.592843</td>\n",
       "      <td>153.592843</td>\n",
       "      <td>153.592843</td>\n",
       "      <td>153.592843</td>\n",
       "      <td>153.592843</td>\n",
       "      <td>153.592843</td>\n",
       "    </tr>\n",
       "    <tr>\n",
       "      <th>8/05/2020</th>\n",
       "      <td>0</td>\n",
       "      <td>0</td>\n",
       "      <td>0</td>\n",
       "      <td>0</td>\n",
       "      <td>0</td>\n",
       "      <td>0</td>\n",
       "      <td>0</td>\n",
       "      <td>0</td>\n",
       "      <td>0</td>\n",
       "      <td>0</td>\n",
       "      <td>...</td>\n",
       "      <td>153.592843</td>\n",
       "      <td>153.592843</td>\n",
       "      <td>153.592843</td>\n",
       "      <td>153.592843</td>\n",
       "      <td>153.592843</td>\n",
       "      <td>153.592843</td>\n",
       "      <td>153.592843</td>\n",
       "      <td>153.592843</td>\n",
       "      <td>153.592843</td>\n",
       "      <td>153.592843</td>\n",
       "    </tr>\n",
       "    <tr>\n",
       "      <th>9/05/2020</th>\n",
       "      <td>0</td>\n",
       "      <td>0</td>\n",
       "      <td>0</td>\n",
       "      <td>0</td>\n",
       "      <td>0</td>\n",
       "      <td>0</td>\n",
       "      <td>0</td>\n",
       "      <td>0</td>\n",
       "      <td>0</td>\n",
       "      <td>0</td>\n",
       "      <td>...</td>\n",
       "      <td>153.592843</td>\n",
       "      <td>153.592843</td>\n",
       "      <td>153.592843</td>\n",
       "      <td>153.592843</td>\n",
       "      <td>153.592843</td>\n",
       "      <td>153.592843</td>\n",
       "      <td>153.592843</td>\n",
       "      <td>153.592843</td>\n",
       "      <td>153.592843</td>\n",
       "      <td>153.592843</td>\n",
       "    </tr>\n",
       "  </tbody>\n",
       "</table>\n",
       "<p>78 rows × 1323 columns</p>\n",
       "</div>"
      ],
      "text/plain": [
       "                  Cases                                               ...  \\\n",
       "postcode              0 1871 2000 2007 2008 2009 2010 2011 2012 2015  ...   \n",
       "notification_date                                                     ...   \n",
       "22/01/2020            0    0    0    0    0    0    0    0    0    0  ...   \n",
       "24/01/2020            0    0    0    0    0    0    0    0    0    0  ...   \n",
       "25/01/2020            0    0    0    0    0    0    0    0    0    0  ...   \n",
       "30/01/2020            0    0    0    0    0    0    0    0    0    0  ...   \n",
       "21/02/2020            0    0    0    0    0    0    1    0    0    0  ...   \n",
       "...                 ...  ...  ...  ...  ...  ...  ...  ...  ...  ...  ...   \n",
       "5/05/2020             0    0    0    0    0    0    0    0    0    0  ...   \n",
       "6/05/2020             0    0    0    0    0    0    0    0    0    0  ...   \n",
       "7/05/2020             0    0    0    0    0    0    0    0    0    0  ...   \n",
       "8/05/2020             0    0    0    0    0    0    0    0    0    0  ...   \n",
       "9/05/2020             0    0    0    0    0    0    0    0    0    0  ...   \n",
       "\n",
       "                    Longitude                                                  \\\n",
       "postcode                 5061        5092        5114        5158        7008   \n",
       "notification_date                                                               \n",
       "22/01/2020         153.592843  153.592843  153.592843  153.592843  153.592843   \n",
       "24/01/2020         153.592843  153.592843  153.592843  153.592843  153.592843   \n",
       "25/01/2020         153.592843  153.592843  153.592843  153.592843  153.592843   \n",
       "30/01/2020         153.592843  153.592843  153.592843  153.592843  153.592843   \n",
       "21/02/2020         153.592843  153.592843  153.592843  153.592843  153.592843   \n",
       "...                       ...         ...         ...         ...         ...   \n",
       "5/05/2020          153.592843  153.592843  153.592843  153.592843  153.592843   \n",
       "6/05/2020          153.592843  153.592843  153.592843  153.592843  153.592843   \n",
       "7/05/2020          153.592843  153.592843  153.592843  153.592843  153.592843   \n",
       "8/05/2020          153.592843  153.592843  153.592843  153.592843  153.592843   \n",
       "9/05/2020          153.592843  153.592843  153.592843  153.592843  153.592843   \n",
       "\n",
       "                                                                               \n",
       "postcode                 7170        7320        8888        9990        9999  \n",
       "notification_date                                                              \n",
       "22/01/2020         153.592843  153.592843  153.592843  153.592843  153.592843  \n",
       "24/01/2020         153.592843  153.592843  153.592843  153.592843  153.592843  \n",
       "25/01/2020         153.592843  153.592843  153.592843  153.592843  153.592843  \n",
       "30/01/2020         153.592843  153.592843  153.592843  153.592843  153.592843  \n",
       "21/02/2020         153.592843  153.592843  153.592843  153.592843  153.592843  \n",
       "...                       ...         ...         ...         ...         ...  \n",
       "5/05/2020          153.592843  153.592843  153.592843  153.592843  153.592843  \n",
       "6/05/2020          153.592843  153.592843  153.592843  153.592843  153.592843  \n",
       "7/05/2020          153.592843  153.592843  153.592843  153.592843  153.592843  \n",
       "8/05/2020          153.592843  153.592843  153.592843  153.592843  153.592843  \n",
       "9/05/2020          153.592843  153.592843  153.592843  153.592843  153.592843  \n",
       "\n",
       "[78 rows x 1323 columns]"
      ]
     },
     "execution_count": 23,
     "metadata": {},
     "output_type": "execute_result"
    }
   ],
   "source": [
    "import pandas_alive\n",
    "\n",
    "multi_index_df = pd.read_csv(\"data/multi.csv\", header=[0, 1], index_col=0)\n",
    "\n",
    "multi_index_df"
   ]
  },
  {
   "cell_type": "code",
   "execution_count": 24,
   "metadata": {},
   "outputs": [
    {
     "name": "stdout",
     "output_type": "stream",
     "text": [
      "Generating BubbleChart, plotting ['Cases', 'Latitude', 'Longitude']\n"
     ]
    }
   ],
   "source": [
    "\n",
    "multi_index_df.index = pd.to_datetime(multi_index_df.index, dayfirst=True)\n",
    "\n",
    "map_chart = multi_index_df.plot_animated(\n",
    "    kind=\"bubble\",\n",
    "    filename=\"examples/example-bubble-chart.gif\",\n",
    "    x_data_label=\"Longitude\",\n",
    "    y_data_label=\"Latitude\",\n",
    "    size_data_label=\"Cases\",\n",
    "    color_data_label=\"Cases\",\n",
    "    vmax=5, steps_per_period=3, interpolate_period=True, period_length=500,\n",
    "    dpi=100\n",
    ")"
   ]
  },
  {
   "cell_type": "code",
   "execution_count": 25,
   "metadata": {},
   "outputs": [
    {
     "data": {
      "text/html": [
       "<img src=\"examples/example-bubble-chart.gif\"/>"
      ],
      "text/plain": [
       "<IPython.core.display.Image object>"
      ]
     },
     "execution_count": 25,
     "metadata": {},
     "output_type": "execute_result"
    }
   ],
   "source": [
    "from IPython.display import Image\n",
    "Image(url='examples/example-bubble-chart.gif')\n"
   ]
  },
  {
   "cell_type": "markdown",
   "metadata": {},
   "source": [
    "# Multiple Charts\n",
    "pandas_alive supports multiple animated charts in a single visualisation.\n",
    "\n",
    "Create a list of all charts to include in animation\n",
    "\n",
    "Use animate_multiple_plots with a filename and the list of charts (this will use matplotlib.subplots)\n",
    "\n",
    "Done!"
   ]
  },
  {
   "cell_type": "code",
   "execution_count": 26,
   "metadata": {},
   "outputs": [
    {
     "name": "stdout",
     "output_type": "stream",
     "text": [
      "Generating LineChart, plotting ['Belgium', 'Brazil', 'Canada', 'China', 'France', 'Germany', 'India', 'Indonesia', 'Iran', 'Ireland', 'Italy', 'Mexico', 'Netherlands', 'Portugal', 'Spain', 'Sweden', 'Switzerland', 'Turkey', 'USA', 'United Kingdom']\n",
      "Generating BarChartRace, plotting ['Belgium', 'Brazil', 'Canada', 'China', 'France', 'Germany', 'India', 'Indonesia', 'Iran', 'Ireland', 'Italy', 'Mexico', 'Netherlands', 'Portugal', 'Spain', 'Sweden', 'Switzerland', 'Turkey', 'USA', 'United Kingdom']\n"
     ]
    },
    {
     "data": {
      "application/vnd.jupyter.widget-view+json": {
       "model_id": "10f89593d05f415da5486a508857afdb",
       "version_major": 2,
       "version_minor": 0
      },
      "text/plain": [
       "  0%|          | 0/281 [00:00<?, ?it/s]"
      ]
     },
     "metadata": {},
     "output_type": "display_data"
    }
   ],
   "source": [
    "import pandas_alive\n",
    "\n",
    "covid_df = pandas_alive.load_dataset()\n",
    "\n",
    "animated_line_chart = covid_df.diff().fillna(0).plot_animated(\n",
    "    kind='line', period_label=False, add_legend=False)\n",
    "\n",
    "animated_bar_chart = covid_df.plot_animated(n_visible=10)\n",
    "\n",
    "pandas_alive.animate_multiple_plots('examples/example-bar-and-line-chart.gif', [animated_bar_chart, animated_line_chart],\n",
    "                                    enable_progress_bar=True)\n"
   ]
  },
  {
   "cell_type": "code",
   "execution_count": 27,
   "metadata": {},
   "outputs": [
    {
     "data": {
      "text/html": [
       "<img src=\"examples/example-bar-and-line-chart.gif\"/>"
      ],
      "text/plain": [
       "<IPython.core.display.Image object>"
      ]
     },
     "execution_count": 27,
     "metadata": {},
     "output_type": "execute_result"
    }
   ],
   "source": [
    "from IPython.display import Image\n",
    "Image(url='examples/example-bar-and-line-chart.gif')\n"
   ]
  },
  {
   "cell_type": "markdown",
   "metadata": {},
   "source": [
    "# My data"
   ]
  },
  {
   "cell_type": "code",
   "execution_count": 31,
   "metadata": {},
   "outputs": [
    {
     "data": {
      "text/plain": [
       "Index(['Blood colour index', 'covid infection probability'], dtype='object')"
      ]
     },
     "execution_count": 31,
     "metadata": {},
     "output_type": "execute_result"
    },
    {
     "data": {
      "text/html": [
       "<div>\n",
       "<style scoped>\n",
       "    .dataframe tbody tr th:only-of-type {\n",
       "        vertical-align: middle;\n",
       "    }\n",
       "\n",
       "    .dataframe tbody tr th {\n",
       "        vertical-align: top;\n",
       "    }\n",
       "\n",
       "    .dataframe thead th {\n",
       "        text-align: right;\n",
       "    }\n",
       "</style>\n",
       "<table border=\"1\" class=\"dataframe\">\n",
       "  <thead>\n",
       "    <tr style=\"text-align: right;\">\n",
       "      <th></th>\n",
       "      <th>count</th>\n",
       "      <th>mean</th>\n",
       "      <th>std</th>\n",
       "      <th>min</th>\n",
       "      <th>25%</th>\n",
       "      <th>50%</th>\n",
       "      <th>75%</th>\n",
       "      <th>max</th>\n",
       "    </tr>\n",
       "  </thead>\n",
       "  <tbody>\n",
       "    <tr>\n",
       "      <th>Blood colour index</th>\n",
       "      <td>100.0</td>\n",
       "      <td>12.522644</td>\n",
       "      <td>11.936526</td>\n",
       "      <td>-23.336059</td>\n",
       "      <td>6.484150</td>\n",
       "      <td>13.766707</td>\n",
       "      <td>19.451701</td>\n",
       "      <td>38.696428</td>\n",
       "    </tr>\n",
       "    <tr>\n",
       "      <th>covid infection probability</th>\n",
       "      <td>100.0</td>\n",
       "      <td>30.642209</td>\n",
       "      <td>18.346094</td>\n",
       "      <td>-4.454388</td>\n",
       "      <td>15.487839</td>\n",
       "      <td>30.236895</td>\n",
       "      <td>43.777505</td>\n",
       "      <td>76.847942</td>\n",
       "    </tr>\n",
       "  </tbody>\n",
       "</table>\n",
       "</div>"
      ],
      "text/plain": [
       "                             count       mean        std        min  \\\n",
       "Blood colour index           100.0  12.522644  11.936526 -23.336059   \n",
       "covid infection probability  100.0  30.642209  18.346094  -4.454388   \n",
       "\n",
       "                                   25%        50%        75%        max  \n",
       "Blood colour index            6.484150  13.766707  19.451701  38.696428  \n",
       "covid infection probability  15.487839  30.236895  43.777505  76.847942  "
      ]
     },
     "execution_count": 31,
     "metadata": {},
     "output_type": "execute_result"
    },
    {
     "data": {
      "text/html": [
       "<div>\n",
       "<style scoped>\n",
       "    .dataframe tbody tr th:only-of-type {\n",
       "        vertical-align: middle;\n",
       "    }\n",
       "\n",
       "    .dataframe tbody tr th {\n",
       "        vertical-align: top;\n",
       "    }\n",
       "\n",
       "    .dataframe thead th {\n",
       "        text-align: right;\n",
       "    }\n",
       "</style>\n",
       "<table border=\"1\" class=\"dataframe\">\n",
       "  <thead>\n",
       "    <tr style=\"text-align: right;\">\n",
       "      <th></th>\n",
       "      <th>Blood colour index</th>\n",
       "      <th>covid infection probability</th>\n",
       "    </tr>\n",
       "    <tr>\n",
       "      <th>date</th>\n",
       "      <th></th>\n",
       "      <th></th>\n",
       "    </tr>\n",
       "  </thead>\n",
       "  <tbody>\n",
       "    <tr>\n",
       "      <th>4/1/21</th>\n",
       "      <td>24.538626</td>\n",
       "      <td>27.388075</td>\n",
       "    </tr>\n",
       "    <tr>\n",
       "      <th>4/1/21</th>\n",
       "      <td>16.660262</td>\n",
       "      <td>48.188489</td>\n",
       "    </tr>\n",
       "    <tr>\n",
       "      <th>4/1/21</th>\n",
       "      <td>8.409131</td>\n",
       "      <td>37.279689</td>\n",
       "    </tr>\n",
       "    <tr>\n",
       "      <th>4/1/21</th>\n",
       "      <td>13.935921</td>\n",
       "      <td>32.792376</td>\n",
       "    </tr>\n",
       "    <tr>\n",
       "      <th>4/1/21</th>\n",
       "      <td>20.683282</td>\n",
       "      <td>48.695297</td>\n",
       "    </tr>\n",
       "  </tbody>\n",
       "</table>\n",
       "</div>"
      ],
      "text/plain": [
       "        Blood colour index  covid infection probability\n",
       "date                                                   \n",
       "4/1/21           24.538626                    27.388075\n",
       "4/1/21           16.660262                    48.188489\n",
       "4/1/21            8.409131                    37.279689\n",
       "4/1/21           13.935921                    32.792376\n",
       "4/1/21           20.683282                    48.695297"
      ]
     },
     "execution_count": 31,
     "metadata": {},
     "output_type": "execute_result"
    },
    {
     "name": "stdout",
     "output_type": "stream",
     "text": [
      "Generating BarChartRace, plotting ['Blood colour index', 'covid infection probability']\n"
     ]
    },
    {
     "data": {
      "text/plain": [
       "BarChartRace(df=        Blood colour index  covid infection probability\n",
       "date                                                   \n",
       "4/1/21           24.538626                    27.388075\n",
       "NaN              22.962953                    31.548158\n",
       "NaN              21.387281                    35.708241\n",
       "NaN              19.811608                    39.868323\n",
       "NaN              18.235935                    44.028406\n",
       "...                    ...                          ...\n",
       "NaN              12.657929                    27.135634\n",
       "NaN               8.323795                    31.292811\n",
       "NaN               3.989660                    35.449989\n",
       "NaN              -0.344474                    39.607166\n",
       "4/3/21           -4.678608                    43.764344\n",
       "\n",
       "[496 rows x 2 columns], interpolate_period=True, steps_per_period=5, period_length=500, period_fmt='%d/%m/%Y', figsize=array([6.5, 3.5]), title='Covid 19', fig=<Figure size 936x504 with 1 Axes>, cmap='dark24', tick_label_size=7, period_label=True, period_summary_func=None, fixed_max=False, dpi=144, writer=None, enable_progress_bar=False, kwargs={}, orientation='h', sort='desc', label_bars=True, bar_label_size=7, n_visible=2, fixed_order=False, perpendicular_bar_func=None)"
      ]
     },
     "execution_count": 31,
     "metadata": {},
     "output_type": "execute_result"
    }
   ],
   "source": [
    "import pandas as pd\n",
    "import pandas_alive\n",
    "col_list = [\"date\"  , \"Blood colour index\",'covid infection probability']\n",
    "elec_df = pd.read_csv(\"./assignment_mle.csv\",\n",
    "                      thousands=',', index_col=\"date\",  \n",
    "                      nrows=100 , \n",
    "                      usecols=col_list)\n",
    "\n",
    "elec_df.columns\n",
    "elec_df.describe().T\n",
    "\n",
    "elec_df.head()\n",
    "elec_df.plot_animated(filename='examples/example-barv-chart_elec_df.gif'\n",
    ", title='Covid 19')\n"
   ]
  },
  {
   "cell_type": "code",
   "execution_count": 29,
   "metadata": {},
   "outputs": [
    {
     "data": {
      "text/html": [
       "<img src=\"./examples/example-barv-chart_elec_df.gif\"/>"
      ],
      "text/plain": [
       "<IPython.core.display.Image object>"
      ]
     },
     "execution_count": 29,
     "metadata": {},
     "output_type": "execute_result"
    }
   ],
   "source": [
    "from IPython.display import Image\n",
    "Image(url='./examples/example-barv-chart_elec_df.gif')"
   ]
  }
 ],
 "metadata": {
  "kernelspec": {
   "display_name": "Python 3 (ipykernel)",
   "language": "python",
   "name": "python3"
  },
  "language_info": {
   "codemirror_mode": {
    "name": "ipython",
    "version": 3
   },
   "file_extension": ".py",
   "mimetype": "text/x-python",
   "name": "python",
   "nbconvert_exporter": "python",
   "pygments_lexer": "ipython3",
   "version": "3.8.13"
  },
  "toc": {
   "base_numbering": 1,
   "nav_menu": {},
   "number_sections": true,
   "sideBar": true,
   "skip_h1_title": true,
   "title_cell": "Table of Contents",
   "title_sidebar": "Contents",
   "toc_cell": true,
   "toc_position": {},
   "toc_section_display": true,
   "toc_window_display": true
  },
  "vscode": {
   "interpreter": {
    "hash": "77808ed51d6b79c674415f99df4c8d6ef989eb84dc3da568ac7774c4cbd8a2a3"
   }
  }
 },
 "nbformat": 4,
 "nbformat_minor": 2
}
