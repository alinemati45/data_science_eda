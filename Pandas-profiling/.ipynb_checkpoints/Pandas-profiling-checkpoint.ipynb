{
 "cells": [
  {
   "cell_type": "markdown",
   "metadata": {
    "toc": true
   },
   "source": [
    "<h1>Table of Contents<span class=\"tocSkip\"></span></h1>\n",
    "<div class=\"toc\"><ul class=\"toc-item\"><li><span><a href=\"#Full-report\" data-toc-modified-id=\"Full-report-1\"><span class=\"toc-item-num\">1&nbsp;&nbsp;</span>Full report</a></span></li><li><span><a href=\"#Minimal-Report\" data-toc-modified-id=\"Minimal-Report-2\"><span class=\"toc-item-num\">2&nbsp;&nbsp;</span>Minimal Report</a></span></li><li><span><a href=\"#Customizing-the-visualizations\" data-toc-modified-id=\"Customizing-the-visualizations-3\"><span class=\"toc-item-num\">3&nbsp;&nbsp;</span>Customizing the visualizations</a></span></li><li><span><a href=\"#On-html-server\" data-toc-modified-id=\"On-html-server-4\"><span class=\"toc-item-num\">4&nbsp;&nbsp;</span>On html server</a></span></li><li><span><a href=\"#correlations\" data-toc-modified-id=\"correlations-5\"><span class=\"toc-item-num\">5&nbsp;&nbsp;</span>correlations</a></span></li></ul></div>"
   ]
  },
  {
   "cell_type": "markdown",
   "metadata": {
    "id": "GCulLCWKV6Ze"
   },
   "source": [
    "The autoreload instruction reloads modules automatically before code execution, which is helpful for the update below."
   ]
  },
  {
   "cell_type": "code",
   "execution_count": 2,
   "metadata": {
    "ExecuteTime": {
     "end_time": "2022-09-27T03:45:14.675873Z",
     "start_time": "2022-09-27T03:45:14.651154Z"
    },
    "id": "Rs83gw-YV6Zf"
   },
   "outputs": [],
   "source": [
    "%load_ext autoreload\n",
    "%autoreload 2"
   ]
  },
  {
   "cell_type": "markdown",
   "metadata": {
    "id": "66Qrwq8QV6Zg"
   },
   "source": [
    "Make sure that we have the latest version of pandas-profiling."
   ]
  },
  {
   "cell_type": "code",
   "execution_count": 3,
   "metadata": {
    "ExecuteTime": {
     "end_time": "2022-09-27T03:45:15.068359Z",
     "start_time": "2022-09-27T03:45:14.677243Z"
    },
    "id": "luEG-HonV6Zg"
   },
   "outputs": [
    {
     "name": "stdout",
     "output_type": "stream",
     "text": [
      "zsh:1: no matches found: pandas-profiling[notebook]\n",
      "Enabling notebook extension jupyter-js-widgets/extension...\n",
      "      - Validating: \u001b[32mOK\u001b[0m\n"
     ]
    }
   ],
   "source": [
    "import sys\n",
    "\n",
    "!\"{sys.executable}\" -m pip install -U pandas-profiling[notebook]\n",
    "!jupyter nbextension enable --py widgetsnbextension"
   ]
  },
  {
   "cell_type": "code",
   "execution_count": 4,
   "metadata": {
    "ExecuteTime": {
     "end_time": "2022-09-27T03:45:15.085225Z",
     "start_time": "2022-09-27T03:45:15.070094Z"
    }
   },
   "outputs": [],
   "source": [
    "# !python -m pip install ipywidgets -y\n",
    "# !conda install -c conda-forge pyyaml -y"
   ]
  },
  {
   "cell_type": "markdown",
   "metadata": {
    "id": "QvboNSLHV6Zg"
   },
   "source": [
    "You might want to restart the kernel now."
   ]
  },
  {
   "cell_type": "code",
   "execution_count": 5,
   "metadata": {
    "ExecuteTime": {
     "end_time": "2022-09-27T03:45:16.119621Z",
     "start_time": "2022-09-27T03:45:15.088181Z"
    },
    "id": "aiNUBzauV6Zh"
   },
   "outputs": [],
   "source": [
    "# Standard Library Imports\n",
    "from pathlib import Path\n",
    "\n",
    "# Installed packages\n",
    "import pandas as pd\n",
    "from ipywidgets import widgets\n",
    "\n",
    "# Our package\n",
    "from pandas_profiling import ProfileReport\n",
    "from pandas_profiling.utils.cache import cache_file"
   ]
  },
  {
   "cell_type": "code",
   "execution_count": 6,
   "metadata": {
    "ExecuteTime": {
     "end_time": "2022-09-27T03:45:16.141168Z",
     "start_time": "2022-09-27T03:45:16.120393Z"
    }
   },
   "outputs": [
    {
     "data": {
      "text/plain": [
       "'/Users/parsanemati/ASUS/ASUSWebStorage/ali.nemati1983@gmail.com/MySyncFolder/GITHUB/data_science_eda/Pandas-profiling'"
      ]
     },
     "execution_count": 6,
     "metadata": {},
     "output_type": "execute_result"
    }
   ],
   "source": [
    "pwd"
   ]
  },
  {
   "cell_type": "code",
   "execution_count": 7,
   "metadata": {
    "ExecuteTime": {
     "end_time": "2022-09-27T03:45:16.167221Z",
     "start_time": "2022-09-27T03:45:16.142202Z"
    },
    "id": "4Wuca5jXV6Zh"
   },
   "outputs": [
    {
     "data": {
      "text/html": [
       "<div>\n",
       "<style scoped>\n",
       "    .dataframe tbody tr th:only-of-type {\n",
       "        vertical-align: middle;\n",
       "    }\n",
       "\n",
       "    .dataframe tbody tr th {\n",
       "        vertical-align: top;\n",
       "    }\n",
       "\n",
       "    .dataframe thead th {\n",
       "        text-align: right;\n",
       "    }\n",
       "</style>\n",
       "<table border=\"1\" class=\"dataframe\">\n",
       "  <thead>\n",
       "    <tr style=\"text-align: right;\">\n",
       "      <th></th>\n",
       "      <th>PassengerId</th>\n",
       "      <th>Survived</th>\n",
       "      <th>Pclass</th>\n",
       "      <th>Name</th>\n",
       "      <th>Sex</th>\n",
       "      <th>Age</th>\n",
       "      <th>SibSp</th>\n",
       "      <th>Parch</th>\n",
       "      <th>Ticket</th>\n",
       "      <th>Fare</th>\n",
       "      <th>Cabin</th>\n",
       "      <th>Embarked</th>\n",
       "    </tr>\n",
       "  </thead>\n",
       "  <tbody>\n",
       "    <tr>\n",
       "      <th>0</th>\n",
       "      <td>1</td>\n",
       "      <td>0</td>\n",
       "      <td>3</td>\n",
       "      <td>Braund, Mr. Owen Harris</td>\n",
       "      <td>male</td>\n",
       "      <td>22.0</td>\n",
       "      <td>1</td>\n",
       "      <td>0</td>\n",
       "      <td>A/5 21171</td>\n",
       "      <td>7.2500</td>\n",
       "      <td>NaN</td>\n",
       "      <td>S</td>\n",
       "    </tr>\n",
       "    <tr>\n",
       "      <th>1</th>\n",
       "      <td>2</td>\n",
       "      <td>1</td>\n",
       "      <td>1</td>\n",
       "      <td>Cumings, Mrs. John Bradley (Florence Briggs Th...</td>\n",
       "      <td>female</td>\n",
       "      <td>38.0</td>\n",
       "      <td>1</td>\n",
       "      <td>0</td>\n",
       "      <td>PC 17599</td>\n",
       "      <td>71.2833</td>\n",
       "      <td>C85</td>\n",
       "      <td>C</td>\n",
       "    </tr>\n",
       "    <tr>\n",
       "      <th>2</th>\n",
       "      <td>3</td>\n",
       "      <td>1</td>\n",
       "      <td>3</td>\n",
       "      <td>Heikkinen, Miss. Laina</td>\n",
       "      <td>female</td>\n",
       "      <td>26.0</td>\n",
       "      <td>0</td>\n",
       "      <td>0</td>\n",
       "      <td>STON/O2. 3101282</td>\n",
       "      <td>7.9250</td>\n",
       "      <td>NaN</td>\n",
       "      <td>S</td>\n",
       "    </tr>\n",
       "    <tr>\n",
       "      <th>3</th>\n",
       "      <td>4</td>\n",
       "      <td>1</td>\n",
       "      <td>1</td>\n",
       "      <td>Futrelle, Mrs. Jacques Heath (Lily May Peel)</td>\n",
       "      <td>female</td>\n",
       "      <td>35.0</td>\n",
       "      <td>1</td>\n",
       "      <td>0</td>\n",
       "      <td>113803</td>\n",
       "      <td>53.1000</td>\n",
       "      <td>C123</td>\n",
       "      <td>S</td>\n",
       "    </tr>\n",
       "    <tr>\n",
       "      <th>4</th>\n",
       "      <td>5</td>\n",
       "      <td>0</td>\n",
       "      <td>3</td>\n",
       "      <td>Allen, Mr. William Henry</td>\n",
       "      <td>male</td>\n",
       "      <td>35.0</td>\n",
       "      <td>0</td>\n",
       "      <td>0</td>\n",
       "      <td>373450</td>\n",
       "      <td>8.0500</td>\n",
       "      <td>NaN</td>\n",
       "      <td>S</td>\n",
       "    </tr>\n",
       "  </tbody>\n",
       "</table>\n",
       "</div>"
      ],
      "text/plain": [
       "   PassengerId  Survived  Pclass  \\\n",
       "0            1         0       3   \n",
       "1            2         1       1   \n",
       "2            3         1       3   \n",
       "3            4         1       1   \n",
       "4            5         0       3   \n",
       "\n",
       "                                                Name     Sex   Age  SibSp  \\\n",
       "0                            Braund, Mr. Owen Harris    male  22.0      1   \n",
       "1  Cumings, Mrs. John Bradley (Florence Briggs Th...  female  38.0      1   \n",
       "2                             Heikkinen, Miss. Laina  female  26.0      0   \n",
       "3       Futrelle, Mrs. Jacques Heath (Lily May Peel)  female  35.0      1   \n",
       "4                           Allen, Mr. William Henry    male  35.0      0   \n",
       "\n",
       "   Parch            Ticket     Fare Cabin Embarked  \n",
       "0      0         A/5 21171   7.2500   NaN        S  \n",
       "1      0          PC 17599  71.2833   C85        C  \n",
       "2      0  STON/O2. 3101282   7.9250   NaN        S  \n",
       "3      0            113803  53.1000  C123        S  \n",
       "4      0            373450   8.0500   NaN        S  "
      ]
     },
     "execution_count": 7,
     "metadata": {},
     "output_type": "execute_result"
    }
   ],
   "source": [
    "# Read the Titanic Dataset\n",
    "\n",
    "df = pd.read_csv(\"../data/titanic.csv\")\n",
    "df.head()"
   ]
  },
  {
   "cell_type": "code",
   "execution_count": 8,
   "metadata": {
    "ExecuteTime": {
     "end_time": "2022-09-27T03:45:16.186392Z",
     "start_time": "2022-09-27T03:45:16.168157Z"
    },
    "id": "Q3a3rj0TV6Zh"
   },
   "outputs": [],
   "source": [
    "# Generate the Profiling Report\n",
    "profile = ProfileReport(\n",
    "    df, title=\"Titanic Dataset\", html={\"style\": {\"full_width\": True}}, sort=None\n",
    ")"
   ]
  },
  {
   "cell_type": "code",
   "execution_count": 9,
   "metadata": {
    "ExecuteTime": {
     "end_time": "2022-09-27T03:45:16.205928Z",
     "start_time": "2022-09-27T03:45:16.187334Z"
    },
    "id": "JChy7eE-V6Zi"
   },
   "outputs": [],
   "source": [
    "# The Notebook Widgets Interface\n",
    "# profile.to_widgets()"
   ]
  },
  {
   "cell_type": "code",
   "execution_count": 10,
   "metadata": {
    "ExecuteTime": {
     "end_time": "2022-09-27T03:45:16.223521Z",
     "start_time": "2022-09-27T03:45:16.206865Z"
    },
    "id": "zYrXhobaV6Zi"
   },
   "outputs": [],
   "source": [
    "# Or use the HTML report in an iframe\n",
    "# profile"
   ]
  },
  {
   "cell_type": "code",
   "execution_count": 11,
   "metadata": {
    "ExecuteTime": {
     "end_time": "2022-09-27T03:45:16.242798Z",
     "start_time": "2022-09-27T03:45:16.225792Z"
    }
   },
   "outputs": [],
   "source": [
    "# !mkdir report"
   ]
  },
  {
   "cell_type": "code",
   "execution_count": 12,
   "metadata": {
    "ExecuteTime": {
     "end_time": "2022-09-27T03:45:21.153893Z",
     "start_time": "2022-09-27T03:45:16.243690Z"
    }
   },
   "outputs": [
    {
     "data": {
      "application/vnd.jupyter.widget-view+json": {
       "model_id": "80bc95ad55aa4ae9a9a610ec8cab1b0f",
       "version_major": 2,
       "version_minor": 0
      },
      "text/plain": [
       "Summarize dataset:   0%|          | 0/5 [00:00<?, ?it/s]"
      ]
     },
     "metadata": {},
     "output_type": "display_data"
    },
    {
     "data": {
      "application/vnd.jupyter.widget-view+json": {
       "model_id": "5a0b762ee3c84ded9f7295303501049f",
       "version_major": 2,
       "version_minor": 0
      },
      "text/plain": [
       "Generate report structure:   0%|          | 0/1 [00:00<?, ?it/s]"
      ]
     },
     "metadata": {},
     "output_type": "display_data"
    },
    {
     "data": {
      "application/vnd.jupyter.widget-view+json": {
       "model_id": "62330b65c0d445dbb5d18eee72c9d213",
       "version_major": 2,
       "version_minor": 0
      },
      "text/plain": [
       "Render HTML:   0%|          | 0/1 [00:00<?, ?it/s]"
      ]
     },
     "metadata": {},
     "output_type": "display_data"
    },
    {
     "data": {
      "application/vnd.jupyter.widget-view+json": {
       "model_id": "ce81204bc9a04c90a393c50f01d5b00e",
       "version_major": 2,
       "version_minor": 0
      },
      "text/plain": [
       "Export report to file:   0%|          | 0/1 [00:00<?, ?it/s]"
      ]
     },
     "metadata": {},
     "output_type": "display_data"
    }
   ],
   "source": [
    "profile.to_file(\"./report/Titanic_data.html\" )"
   ]
  },
  {
   "cell_type": "code",
   "execution_count": 13,
   "metadata": {
    "ExecuteTime": {
     "end_time": "2022-09-27T03:45:21.218072Z",
     "start_time": "2022-09-27T03:45:21.154895Z"
    }
   },
   "outputs": [
    {
     "data": {
      "application/vnd.jupyter.widget-view+json": {
       "model_id": "347b8f447a8a4ad2885085f5ca25162c",
       "version_major": 2,
       "version_minor": 0
      },
      "text/plain": [
       "Render JSON:   0%|          | 0/1 [00:00<?, ?it/s]"
      ]
     },
     "metadata": {},
     "output_type": "display_data"
    },
    {
     "data": {
      "application/vnd.jupyter.widget-view+json": {
       "model_id": "65aaa1fd8f3743f48a8b713bababb09c",
       "version_major": 2,
       "version_minor": 0
      },
      "text/plain": [
       "Export report to file:   0%|          | 0/1 [00:00<?, ?it/s]"
      ]
     },
     "metadata": {},
     "output_type": "display_data"
    }
   ],
   "source": [
    "# As a JSON string\n",
    "json_data = profile.to_json()\n",
    "\n",
    "# As a file\n",
    "profile.to_file(\"./report/Titanic_report.json\")"
   ]
  },
  {
   "cell_type": "markdown",
   "metadata": {},
   "source": [
    "For standard formatted CSV files (which can be read directly by pandas without additional settings), the pandas_profiling executable can be used in the command line. The example below generates a report named Example Profiling Report, using a configuration file called default.yaml, in the file report.html by processing a data.csv dataset.\n",
    "\n"
   ]
  },
  {
   "cell_type": "markdown",
   "metadata": {},
   "source": [
    "## Full report"
   ]
  },
  {
   "cell_type": "code",
   "execution_count": 14,
   "metadata": {
    "ExecuteTime": {
     "end_time": "2022-09-27T03:45:23.697589Z",
     "start_time": "2022-09-27T03:45:21.218941Z"
    }
   },
   "outputs": [
    {
     "data": {
      "application/vnd.jupyter.widget-view+json": {
       "model_id": "b0df8ac5cfbd44ccb7626ebe9f910525",
       "version_major": 2,
       "version_minor": 0
      },
      "text/plain": [
       "Summarize dataset:   0%|          | 0/5 [00:00<?, ?it/s]"
      ]
     },
     "metadata": {},
     "output_type": "display_data"
    },
    {
     "data": {
      "application/vnd.jupyter.widget-view+json": {
       "model_id": "3abc988869f544d4a6518aac070866d2",
       "version_major": 2,
       "version_minor": 0
      },
      "text/plain": [
       "Generate report structure:   0%|          | 0/1 [00:00<?, ?it/s]"
      ]
     },
     "metadata": {},
     "output_type": "display_data"
    },
    {
     "data": {
      "application/vnd.jupyter.widget-view+json": {
       "model_id": "0d31749529664eeeab3da17c54574e00",
       "version_major": 2,
       "version_minor": 0
      },
      "text/plain": [
       "Render HTML:   0%|          | 0/1 [00:00<?, ?it/s]"
      ]
     },
     "metadata": {},
     "output_type": "display_data"
    },
    {
     "data": {
      "application/vnd.jupyter.widget-view+json": {
       "model_id": "8b32240da5f54441aedc07a39989f2a2",
       "version_major": 2,
       "version_minor": 0
      },
      "text/plain": [
       "Export report to file:   0%|          | 0/1 [00:00<?, ?it/s]"
      ]
     },
     "metadata": {},
     "output_type": "display_data"
    }
   ],
   "source": [
    "from pandas_profiling import ProfileReport\n",
    "import pandas as pd\n",
    "\n",
    "# Reading the data\n",
    "data = pd.read_csv(\n",
    "    \"https://raw.githubusercontent.com/datasciencedojo/datasets/master/titanic.csv\"\n",
    ")\n",
    "\n",
    "# Creating the profile without specifying the data source, to allow editing the configuration\n",
    "profile = ProfileReport()\n",
    "profile.config.interactions.targets = [\"Name\", \"Sex\", \"Age\"]\n",
    "\n",
    "# Assigning a DataFrame and exporting to a file, triggering computation\n",
    "profile.df = data\n",
    "profile.to_file(\"./report/report_titanic_2.html\")"
   ]
  },
  {
   "cell_type": "markdown",
   "metadata": {},
   "source": [
    "## Minimal Report"
   ]
  },
  {
   "cell_type": "code",
   "execution_count": 15,
   "metadata": {
    "ExecuteTime": {
     "end_time": "2022-09-27T03:45:24.790226Z",
     "start_time": "2022-09-27T03:45:23.698479Z"
    }
   },
   "outputs": [
    {
     "data": {
      "application/vnd.jupyter.widget-view+json": {
       "model_id": "99275180249b4526b0040cc4be064ebc",
       "version_major": 2,
       "version_minor": 0
      },
      "text/plain": [
       "Summarize dataset:   0%|          | 0/5 [00:00<?, ?it/s]"
      ]
     },
     "metadata": {},
     "output_type": "display_data"
    },
    {
     "data": {
      "application/vnd.jupyter.widget-view+json": {
       "model_id": "874139b26a1249ab96b0518c3827618e",
       "version_major": 2,
       "version_minor": 0
      },
      "text/plain": [
       "Generate report structure:   0%|          | 0/1 [00:00<?, ?it/s]"
      ]
     },
     "metadata": {},
     "output_type": "display_data"
    },
    {
     "data": {
      "application/vnd.jupyter.widget-view+json": {
       "model_id": "56eb1a00c2714f7daac762d8bf8eb8ec",
       "version_major": 2,
       "version_minor": 0
      },
      "text/plain": [
       "Render HTML:   0%|          | 0/1 [00:00<?, ?it/s]"
      ]
     },
     "metadata": {},
     "output_type": "display_data"
    },
    {
     "data": {
      "application/vnd.jupyter.widget-view+json": {
       "model_id": "dfa2970808724cfba1c9377d544ac362",
       "version_major": 2,
       "version_minor": 0
      },
      "text/plain": [
       "Export report to file:   0%|          | 0/1 [00:00<?, ?it/s]"
      ]
     },
     "metadata": {},
     "output_type": "display_data"
    }
   ],
   "source": [
    "from pandas_profiling import ProfileReport\n",
    "import pandas as pd\n",
    "\n",
    "# Reading the data\n",
    "data = pd.read_csv(\n",
    "    \"https://raw.githubusercontent.com/datasciencedojo/datasets/master/titanic.csv\"\n",
    ")\n",
    "\n",
    "\n",
    "\n",
    "# Creating the profile without specifying the data source, to allow editing the configuration\n",
    "profile = ProfileReport( minimal=True)\n",
    "profile.config.interactions.targets = [\"Name\", \"Sex\", \"Age\"]\n",
    "\n",
    "# Assigning a DataFrame and exporting to a file, triggering computation\n",
    "profile.df = data\n",
    "profile.to_file(\"./report/report_titanic_minial_report.html\")"
   ]
  },
  {
   "cell_type": "markdown",
   "metadata": {},
   "source": [
    "## Customizing the visualizations"
   ]
  },
  {
   "cell_type": "code",
   "execution_count": 16,
   "metadata": {
    "ExecuteTime": {
     "end_time": "2022-09-27T03:45:28.784715Z",
     "start_time": "2022-09-27T03:45:24.791500Z"
    }
   },
   "outputs": [
    {
     "data": {
      "application/vnd.jupyter.widget-view+json": {
       "model_id": "5c7ed41d62a947179702f0eb8e6c0701",
       "version_major": 2,
       "version_minor": 0
      },
      "text/plain": [
       "Summarize dataset:   0%|          | 0/5 [00:00<?, ?it/s]"
      ]
     },
     "metadata": {},
     "output_type": "display_data"
    },
    {
     "data": {
      "application/vnd.jupyter.widget-view+json": {
       "model_id": "cd07a86687274731869c4229be5afce2",
       "version_major": 2,
       "version_minor": 0
      },
      "text/plain": [
       "Generate report structure:   0%|          | 0/1 [00:00<?, ?it/s]"
      ]
     },
     "metadata": {},
     "output_type": "display_data"
    },
    {
     "data": {
      "application/vnd.jupyter.widget-view+json": {
       "model_id": "7a50969931cf440cb27bbbb8e680853b",
       "version_major": 2,
       "version_minor": 0
      },
      "text/plain": [
       "Render HTML:   0%|          | 0/1 [00:00<?, ?it/s]"
      ]
     },
     "metadata": {},
     "output_type": "display_data"
    },
    {
     "data": {
      "application/vnd.jupyter.widget-view+json": {
       "model_id": "6190686a8e374d75af80c7d8349f41b8",
       "version_major": 2,
       "version_minor": 0
      },
      "text/plain": [
       "Export report to file:   0%|          | 0/1 [00:00<?, ?it/s]"
      ]
     },
     "metadata": {},
     "output_type": "display_data"
    }
   ],
   "source": [
    "from pandas_profiling import ProfileReport\n",
    "import pandas as pd\n",
    "\n",
    "# Reading the data\n",
    "data = pd.read_csv(\n",
    "    \"https://raw.githubusercontent.com/datasciencedojo/datasets/master/titanic.csv\"\n",
    ")\n",
    "\n",
    "\n",
    "\n",
    "# Creating the profile without specifying the data source, to allow editing the configuration\n",
    "profile = ProfileReport( title=\"Pandas Profiling Report\",\n",
    "    explorative=True,\n",
    "    plot={\"dpi\": 200, \"image_format\": \"png\"})\n",
    "profile.config.interactions.targets = [\"Name\", \"Sex\", \"Age\"]\n",
    "\n",
    "# Assigning a DataFrame and exporting to a file, triggering computation\n",
    "profile.df = data\n",
    "profile.to_file(\"./report/report_titanic_Customizing_visualizations.html\")"
   ]
  },
  {
   "cell_type": "code",
   "execution_count": 3,
   "metadata": {
    "ExecuteTime": {
     "end_time": "2022-09-27T03:54:46.455882Z",
     "start_time": "2022-09-27T03:54:43.746243Z"
    }
   },
   "outputs": [
    {
     "name": "stdout",
     "output_type": "stream",
     "text": [
      "Collecting dash-dangerously-set-inner-html\n",
      "  Downloading dash_dangerously_set_inner_html-0.0.2.tar.gz (5.0 kB)\n",
      "  Preparing metadata (setup.py) ... \u001b[?25ldone\n",
      "\u001b[?25hBuilding wheels for collected packages: dash-dangerously-set-inner-html\n",
      "  Building wheel for dash-dangerously-set-inner-html (setup.py) ... \u001b[?25ldone\n",
      "\u001b[?25h  Created wheel for dash-dangerously-set-inner-html: filename=dash_dangerously_set_inner_html-0.0.2-py3-none-any.whl size=4730 sha256=d49219ddd5b95951174524b0406ac3c797a99c5de8c6cebf137c868c4be1ee9b\n",
      "  Stored in directory: /Users/parsanemati/Library/Caches/pip/wheels/25/dc/4d/d63cc56587601413aa2e3654ea1bc0e8d7944c23b73bb56819\n",
      "Successfully built dash-dangerously-set-inner-html\n",
      "Installing collected packages: dash-dangerously-set-inner-html\n",
      "Successfully installed dash-dangerously-set-inner-html-0.0.2\n"
     ]
    }
   ],
   "source": [
    "!pip install dash-dangerously-set-inner-html\n"
   ]
  },
  {
   "cell_type": "code",
   "execution_count": 11,
   "metadata": {
    "ExecuteTime": {
     "end_time": "2022-09-27T03:58:47.898364Z",
     "start_time": "2022-09-27T03:58:43.779584Z"
    }
   },
   "outputs": [
    {
     "name": "stdout",
     "output_type": "stream",
     "text": [
      "Requirement already satisfied: dash in /Users/parsanemati/Library/r-miniconda-arm64/envs/nlp/lib/python3.8/site-packages (1.19.0)\n",
      "Collecting dash\n",
      "  Downloading dash-2.6.2-py3-none-any.whl (9.8 MB)\n",
      "\u001b[2K     \u001b[90m━━━━━━━━━━━━━━━━━━━━━━━━━━━━━━━━━━━━━━━━\u001b[0m \u001b[32m9.8/9.8 MB\u001b[0m \u001b[31m15.4 MB/s\u001b[0m eta \u001b[36m0:00:00\u001b[0m00:01\u001b[0m00:01\u001b[0m\n",
      "\u001b[?25hRequirement already satisfied: flask-compress in /Users/parsanemati/Library/r-miniconda-arm64/envs/nlp/lib/python3.8/site-packages (from dash) (1.10.1)\n",
      "Requirement already satisfied: Flask>=1.0.4 in /Users/parsanemati/Library/r-miniconda-arm64/envs/nlp/lib/python3.8/site-packages (from dash) (2.1.3)\n",
      "Collecting dash-table==5.0.0\n",
      "  Downloading dash_table-5.0.0-py3-none-any.whl (3.9 kB)\n",
      "Collecting dash-html-components==2.0.0\n",
      "  Downloading dash_html_components-2.0.0-py3-none-any.whl (4.1 kB)\n",
      "Collecting dash-core-components==2.0.0\n",
      "  Downloading dash_core_components-2.0.0-py3-none-any.whl (3.8 kB)\n",
      "Requirement already satisfied: plotly>=5.0.0 in /Users/parsanemati/Library/r-miniconda-arm64/envs/nlp/lib/python3.8/site-packages (from dash) (5.5.0)\n",
      "Requirement already satisfied: Werkzeug>=2.0 in /Users/parsanemati/Library/r-miniconda-arm64/envs/nlp/lib/python3.8/site-packages (from Flask>=1.0.4->dash) (2.0.3)\n",
      "Requirement already satisfied: click>=8.0 in /Users/parsanemati/Library/r-miniconda-arm64/envs/nlp/lib/python3.8/site-packages (from Flask>=1.0.4->dash) (8.0.4)\n",
      "Requirement already satisfied: importlib-metadata>=3.6.0 in /Users/parsanemati/Library/r-miniconda-arm64/envs/nlp/lib/python3.8/site-packages (from Flask>=1.0.4->dash) (4.12.0)\n",
      "Requirement already satisfied: itsdangerous>=2.0 in /Users/parsanemati/Library/r-miniconda-arm64/envs/nlp/lib/python3.8/site-packages (from Flask>=1.0.4->dash) (2.0.1)\n",
      "Requirement already satisfied: Jinja2>=3.0 in /Users/parsanemati/Library/r-miniconda-arm64/envs/nlp/lib/python3.8/site-packages (from Flask>=1.0.4->dash) (3.0.3)\n",
      "Requirement already satisfied: six in /Users/parsanemati/Library/r-miniconda-arm64/envs/nlp/lib/python3.8/site-packages (from plotly>=5.0.0->dash) (1.16.0)\n",
      "Requirement already satisfied: tenacity>=6.2.0 in /Users/parsanemati/Library/r-miniconda-arm64/envs/nlp/lib/python3.8/site-packages (from plotly>=5.0.0->dash) (8.0.1)\n",
      "Requirement already satisfied: brotli in /Users/parsanemati/Library/r-miniconda-arm64/envs/nlp/lib/python3.8/site-packages (from flask-compress->dash) (1.0.9)\n",
      "Requirement already satisfied: zipp>=0.5 in /Users/parsanemati/Library/r-miniconda-arm64/envs/nlp/lib/python3.8/site-packages (from importlib-metadata>=3.6.0->Flask>=1.0.4->dash) (3.8.0)\n",
      "Requirement already satisfied: MarkupSafe>=2.0 in /Users/parsanemati/Library/r-miniconda-arm64/envs/nlp/lib/python3.8/site-packages (from Jinja2>=3.0->Flask>=1.0.4->dash) (2.1.1)\n",
      "Installing collected packages: dash-table, dash-html-components, dash-core-components, dash\n",
      "  Attempting uninstall: dash-table\n",
      "    Found existing installation: dash-table 4.4.1\n",
      "    Uninstalling dash-table-4.4.1:\n",
      "      Successfully uninstalled dash-table-4.4.1\n",
      "  Attempting uninstall: dash-html-components\n",
      "    Found existing installation: dash-html-components 1.0.1\n",
      "    Uninstalling dash-html-components-1.0.1:\n",
      "      Successfully uninstalled dash-html-components-1.0.1\n",
      "  Attempting uninstall: dash-core-components\n",
      "    Found existing installation: dash-core-components 1.3.1\n",
      "    Uninstalling dash-core-components-1.3.1:\n",
      "      Successfully uninstalled dash-core-components-1.3.1\n",
      "  Attempting uninstall: dash\n",
      "    Found existing installation: dash 1.19.0\n",
      "    Uninstalling dash-1.19.0:\n",
      "      Successfully uninstalled dash-1.19.0\n",
      "Successfully installed dash-2.6.2 dash-core-components-2.0.0 dash-html-components-2.0.0 dash-table-5.0.0\n"
     ]
    }
   ],
   "source": [
    "!pip install dash --upgrade"
   ]
  },
  {
   "cell_type": "markdown",
   "metadata": {},
   "source": [
    "## On html server"
   ]
  },
  {
   "cell_type": "code",
   "execution_count": 1,
   "metadata": {
    "ExecuteTime": {
     "end_time": "2022-09-27T04:05:46.274423Z",
     "start_time": "2022-09-27T04:05:03.444949Z"
    }
   },
   "outputs": [
    {
     "name": "stdout",
     "output_type": "stream",
     "text": [
      "Dash is running on http://127.0.0.1:8081/\n",
      "\n",
      " * Serving Flask app '__main__' (lazy loading)\n",
      " * Environment: production\n",
      "\u001b[31m   WARNING: This is a development server. Do not use it in a production deployment.\u001b[0m\n",
      "\u001b[2m   Use a production WSGI server instead.\u001b[0m\n",
      " * Debug mode: off\n"
     ]
    },
    {
     "name": "stderr",
     "output_type": "stream",
     "text": [
      " * Running on http://127.0.0.1:8081/ (Press CTRL+C to quit)\n",
      "127.0.0.1 - - [26/Sep/2022 23:05:07] \"GET / HTTP/1.1\" 200 -\n",
      "127.0.0.1 - - [26/Sep/2022 23:05:07] \"GET /_dash-component-suites/dash/deps/polyfill@7.v2_6_2m1664251127.12.1.min.js HTTP/1.1\" 200 -\n",
      "127.0.0.1 - - [26/Sep/2022 23:05:07] \"GET /_dash-component-suites/dash/deps/react@16.v2_6_2m1664251127.14.0.min.js HTTP/1.1\" 200 -\n",
      "127.0.0.1 - - [26/Sep/2022 23:05:07] \"GET /_dash-component-suites/dash/deps/prop-types@15.v2_6_2m1664251127.8.1.min.js HTTP/1.1\" 200 -\n",
      "127.0.0.1 - - [26/Sep/2022 23:05:07] \"GET /_dash-component-suites/dash/dcc/dash_core_components.v2_6_2m1664251127.js HTTP/1.1\" 200 -\n",
      "127.0.0.1 - - [26/Sep/2022 23:05:07] \"GET /_dash-component-suites/dash/deps/react-dom@16.v2_6_2m1664251127.14.0.min.js HTTP/1.1\" 200 -\n",
      "127.0.0.1 - - [26/Sep/2022 23:05:07] \"GET /_dash-component-suites/dash/dash-renderer/build/dash_renderer.v2_6_2m1664251127.min.js HTTP/1.1\" 200 -\n",
      "127.0.0.1 - - [26/Sep/2022 23:05:07] \"GET /_dash-component-suites/dash/dcc/dash_core_components-shared.v2_6_2m1664251127.js HTTP/1.1\" 200 -\n",
      "127.0.0.1 - - [26/Sep/2022 23:05:07] \"GET /_dash-component-suites/dash/dash_table/bundle.v5_1_6m1664251127.js HTTP/1.1\" 200 -\n",
      "127.0.0.1 - - [26/Sep/2022 23:05:07] \"GET /_dash-component-suites/dash/html/dash_html_components.v2_0_5m1664251127.min.js HTTP/1.1\" 200 -\n",
      "127.0.0.1 - - [26/Sep/2022 23:05:07] \"GET /_dash-layout HTTP/1.1\" 200 -\n",
      "127.0.0.1 - - [26/Sep/2022 23:05:07] \"GET /_dash-dependencies HTTP/1.1\" 200 -\n",
      "127.0.0.1 - - [26/Sep/2022 23:05:07] \"GET /assets/Titanic_data.html HTTP/1.1\" 200 -\n",
      "127.0.0.1 - - [26/Sep/2022 23:05:07] \"GET /_favicon.ico?v=2.6.2 HTTP/1.1\" 200 -\n"
     ]
    }
   ],
   "source": [
    "import dash\n",
    "from dash import html\n",
    "\n",
    "app = dash.Dash(__name__)\n",
    "\n",
    "app.layout = html.Div(\n",
    "    children=[\n",
    "        html.Iframe(\n",
    "            src=\"assets/Titanic_data.html\",  # must be under assets/ to be properly served\n",
    "            style={\"height\": \"1080px\", \"width\": \"100%\"},\n",
    "        )\n",
    "    ]\n",
    ")\n",
    "\n",
    "if __name__ == \"__main__\":\n",
    "    app.run_server(debug=False , port=8081)"
   ]
  },
  {
   "cell_type": "code",
   "execution_count": 2,
   "metadata": {
    "ExecuteTime": {
     "end_time": "2022-09-27T04:06:12.782918Z",
     "start_time": "2022-09-27T04:05:55.158797Z"
    }
   },
   "outputs": [
    {
     "data": {
      "application/vnd.jupyter.widget-view+json": {
       "model_id": "2662fcb56af2459baca2762115820f07",
       "version_major": 2,
       "version_minor": 0
      },
      "text/plain": [
       "Summarize dataset:   0%|          | 0/5 [00:00<?, ?it/s]"
      ]
     },
     "metadata": {},
     "output_type": "display_data"
    },
    {
     "data": {
      "application/vnd.jupyter.widget-view+json": {
       "model_id": "658c856f642343e988c8dfe7c598c4c7",
       "version_major": 2,
       "version_minor": 0
      },
      "text/plain": [
       "Generate report structure:   0%|          | 0/1 [00:00<?, ?it/s]"
      ]
     },
     "metadata": {},
     "output_type": "display_data"
    },
    {
     "data": {
      "application/vnd.jupyter.widget-view+json": {
       "model_id": "c848d641e9f84d8688e82d0216cf1f39",
       "version_major": 2,
       "version_minor": 0
      },
      "text/plain": [
       "Render HTML:   0%|          | 0/1 [00:00<?, ?it/s]"
      ]
     },
     "metadata": {},
     "output_type": "display_data"
    },
    {
     "name": "stdout",
     "output_type": "stream",
     "text": [
      "Dash is running on http://127.0.0.1:8050/\n",
      "\n",
      "Dash is running on http://127.0.0.1:8050/\n",
      "\n",
      " * Serving Flask app '__main__' (lazy loading)\n",
      " * Environment: production\n",
      "\u001b[31m   WARNING: This is a development server. Do not use it in a production deployment.\u001b[0m\n",
      "\u001b[2m   Use a production WSGI server instead.\u001b[0m\n",
      " * Debug mode: off\n"
     ]
    },
    {
     "name": "stderr",
     "output_type": "stream",
     "text": [
      " * Running on http://127.0.0.1:8050/ (Press CTRL+C to quit)\n",
      "127.0.0.1 - - [26/Sep/2022 23:06:05] \"GET / HTTP/1.1\" 200 -\n",
      "127.0.0.1 - - [26/Sep/2022 23:06:05] \"GET /_dash-component-suites/dash/deps/polyfill@7.v2_6_2m1664251127.12.1.min.js HTTP/1.1\" 200 -\n",
      "127.0.0.1 - - [26/Sep/2022 23:06:05] \"GET /_dash-component-suites/dash/deps/react@16.v2_6_2m1664251127.14.0.min.js HTTP/1.1\" 200 -\n",
      "127.0.0.1 - - [26/Sep/2022 23:06:05] \"GET /_dash-component-suites/dash/deps/react-dom@16.v2_6_2m1664251127.14.0.min.js HTTP/1.1\" 200 -\n",
      "127.0.0.1 - - [26/Sep/2022 23:06:05] \"GET /_dash-component-suites/dash/deps/prop-types@15.v2_6_2m1664251127.8.1.min.js HTTP/1.1\" 200 -\n",
      "127.0.0.1 - - [26/Sep/2022 23:06:05] \"GET /_dash-component-suites/dash_dangerously_set_inner_html/bundle.v0_0_2m1664250886.js HTTP/1.1\" 200 -\n",
      "127.0.0.1 - - [26/Sep/2022 23:06:05] \"GET /_dash-component-suites/dash/dash-renderer/build/dash_renderer.v2_6_2m1664251127.min.js HTTP/1.1\" 200 -\n",
      "127.0.0.1 - - [26/Sep/2022 23:06:05] \"GET /_dash-component-suites/dash/dcc/dash_core_components.v2_6_2m1664251127.js HTTP/1.1\" 200 -\n",
      "127.0.0.1 - - [26/Sep/2022 23:06:05] \"GET /_dash-component-suites/dash/dcc/dash_core_components-shared.v2_6_2m1664251127.js HTTP/1.1\" 200 -\n",
      "127.0.0.1 - - [26/Sep/2022 23:06:05] \"GET /_dash-component-suites/dash/html/dash_html_components.v2_0_5m1664251127.min.js HTTP/1.1\" 200 -\n",
      "127.0.0.1 - - [26/Sep/2022 23:06:05] \"GET /_dash-component-suites/dash/dash_table/bundle.v5_1_6m1664251127.js HTTP/1.1\" 200 -\n",
      "127.0.0.1 - - [26/Sep/2022 23:06:05] \"GET /_dash-dependencies HTTP/1.1\" 200 -\n",
      "127.0.0.1 - - [26/Sep/2022 23:06:05] \"GET /_dash-layout HTTP/1.1\" 200 -\n",
      "127.0.0.1 - - [26/Sep/2022 23:06:06] \"GET /_favicon.ico?v=2.6.2 HTTP/1.1\" 200 -\n"
     ]
    }
   ],
   "source": [
    "import pandas as pd\n",
    "from pandas_profiling import ProfileReport\n",
    "import dash\n",
    "from dash import html\n",
    "import dash_dangerously_set_inner_html\n",
    "\n",
    "# Creating the Report\n",
    "df = pd.read_csv(\n",
    "    \"https://raw.githubusercontent.com/datasciencedojo/datasets/master/titanic.csv\"\n",
    ")\n",
    "profile = ProfileReport(df, title=\"Titanic Dataset\")\n",
    "text_raw = profile.to_html()\n",
    "\n",
    "# Creating the Dash app\n",
    "\n",
    "app = dash.Dash(__name__)\n",
    "\n",
    "app.layout = html.Div(\n",
    "    [dash_dangerously_set_inner_html.DangerouslySetInnerHTML(text_raw)]\n",
    ")\n",
    "\n",
    "app.layout = html.Div(\n",
    "    [dash_dangerously_set_inner_html.DangerouslySetInnerHTML(text_raw)]\n",
    ")\n",
    "\n",
    "if __name__ == \"__main__\":\n",
    "    app.run_server(debug=False)"
   ]
  },
  {
   "cell_type": "markdown",
   "metadata": {},
   "source": [
    "## correlations"
   ]
  },
  {
   "cell_type": "code",
   "execution_count": 6,
   "metadata": {
    "ExecuteTime": {
     "end_time": "2022-09-27T04:14:47.164379Z",
     "start_time": "2022-09-27T04:14:47.138160Z"
    }
   },
   "outputs": [
    {
     "name": "stdout",
     "output_type": "stream",
     "text": [
      "dict_items([('spearman',              PassengerId  Survived    Pclass       Age     SibSp     Parch  \\\n",
      "PassengerId     1.000000 -0.005007 -0.034091  0.041010 -0.061161  0.001235   \n",
      "Survived       -0.005007  1.000000 -0.339668 -0.052565  0.088879  0.138266   \n",
      "Pclass         -0.034091 -0.339668  1.000000 -0.361666 -0.043019 -0.022801   \n",
      "Age             0.041010 -0.052565 -0.361666  1.000000 -0.182061 -0.254212   \n",
      "SibSp          -0.061161  0.088879 -0.043019 -0.182061  1.000000  0.450014   \n",
      "Parch           0.001235  0.138266 -0.022801 -0.254212  0.450014  1.000000   \n",
      "Fare           -0.013975  0.323736 -0.688032  0.135051  0.447113  0.410074   \n",
      "\n",
      "                 Fare  \n",
      "PassengerId -0.013975  \n",
      "Survived     0.323736  \n",
      "Pclass      -0.688032  \n",
      "Age          0.135051  \n",
      "SibSp        0.447113  \n",
      "Parch        0.410074  \n",
      "Fare         1.000000  ), ('pearson',              PassengerId  Survived    Pclass       Age     SibSp     Parch  \\\n",
      "PassengerId     1.000000 -0.005007 -0.035144  0.036847 -0.057527 -0.001652   \n",
      "Survived       -0.005007  1.000000 -0.338481 -0.077221 -0.035322  0.081629   \n",
      "Pclass         -0.035144 -0.338481  1.000000 -0.369226  0.083081  0.018443   \n",
      "Age             0.036847 -0.077221 -0.369226  1.000000 -0.308247 -0.189119   \n",
      "SibSp          -0.057527 -0.035322  0.083081 -0.308247  1.000000  0.414838   \n",
      "Parch          -0.001652  0.081629  0.018443 -0.189119  0.414838  1.000000   \n",
      "Fare            0.012658  0.257307 -0.549500  0.096067  0.159651  0.216225   \n",
      "\n",
      "                 Fare  \n",
      "PassengerId  0.012658  \n",
      "Survived     0.257307  \n",
      "Pclass      -0.549500  \n",
      "Age          0.096067  \n",
      "SibSp        0.159651  \n",
      "Parch        0.216225  \n",
      "Fare         1.000000  ), ('kendall',              PassengerId  Survived    Pclass       Age     SibSp     Parch  \\\n",
      "PassengerId     1.000000 -0.004090 -0.026824  0.027542 -0.048394  0.000798   \n",
      "Survived       -0.004090  1.000000 -0.323533 -0.043385  0.085915  0.133933   \n",
      "Pclass         -0.026824 -0.323533  1.000000 -0.286081 -0.039552 -0.021019   \n",
      "Age             0.027542 -0.043385 -0.286081  1.000000 -0.142746 -0.200112   \n",
      "SibSp          -0.048394  0.085915 -0.039552 -0.142746  1.000000  0.425241   \n",
      "Parch           0.000798  0.133933 -0.021019 -0.200112  0.425241  1.000000   \n",
      "Fare           -0.008921  0.266229 -0.573531  0.093249  0.358262  0.330360   \n",
      "\n",
      "                 Fare  \n",
      "PassengerId -0.008921  \n",
      "Survived     0.266229  \n",
      "Pclass      -0.573531  \n",
      "Age          0.093249  \n",
      "SibSp        0.358262  \n",
      "Parch        0.330360  \n",
      "Fare         1.000000  ), ('cramers',                Sex    Pclass  Embarked  Survived\n",
      "Sex       1.000000  0.129690  0.113072  0.540200\n",
      "Pclass    0.129690  1.000000  0.259811  0.336684\n",
      "Embarked  0.113072  0.259811  1.000000  0.166058\n",
      "Survived  0.540200  0.336684  0.166058  1.000000), ('phi_k',              PassengerId  Survived    Pclass       Sex       Age     SibSp  \\\n",
      "PassengerId     1.000000  0.140981  0.055304  0.091565  0.000000  0.038486   \n",
      "Survived        0.140981  1.000000  0.205464  0.750322  0.203348  0.175652   \n",
      "Pclass          0.055304  0.205464  1.000000  0.078281  0.409334  0.216296   \n",
      "Sex             0.091565  0.750322  0.078281  1.000000  0.130602  0.192974   \n",
      "Age             0.000000  0.203348  0.409334  0.130602  1.000000  0.406231   \n",
      "SibSp           0.038486  0.175652  0.216296  0.192974  0.406231  1.000000   \n",
      "Parch           0.000000  0.147080  0.033361  0.231568  0.405800  0.589912   \n",
      "Fare            0.096545  0.265387  0.588122  0.176741  0.166983  0.497583   \n",
      "Embarked        0.000000  0.100349  0.584054  0.068222  0.109913  0.137069   \n",
      "\n",
      "                Parch      Fare  Embarked  \n",
      "PassengerId  0.000000  0.096545  0.000000  \n",
      "Survived     0.147080  0.265387  0.100349  \n",
      "Pclass       0.033361  0.588122  0.584054  \n",
      "Sex          0.231568  0.176741  0.068222  \n",
      "Age          0.405800  0.166983  0.109913  \n",
      "SibSp        0.589912  0.497583  0.137069  \n",
      "Parch        1.000000  0.337206  0.077919  \n",
      "Fare         0.337206  1.000000  0.280664  \n",
      "Embarked     0.077919  0.280664  1.000000  )])\n"
     ]
    }
   ],
   "source": [
    "# Listing available correlation\n",
    "correlations = profile.description_set[\"correlations\"]\n",
    "print(correlations.items())"
   ]
  },
  {
   "cell_type": "code",
   "execution_count": null,
   "metadata": {},
   "outputs": [],
   "source": []
  }
 ],
 "metadata": {
  "colab": {
   "provenance": []
  },
  "kernelspec": {
   "display_name": "nlp",
   "language": "python",
   "name": "nlp"
  },
  "language_info": {
   "codemirror_mode": {
    "name": "ipython",
    "version": 3
   },
   "file_extension": ".py",
   "mimetype": "text/x-python",
   "name": "python",
   "nbconvert_exporter": "python",
   "pygments_lexer": "ipython3",
   "version": "3.8.13"
  },
  "toc": {
   "base_numbering": 1,
   "nav_menu": {},
   "number_sections": true,
   "sideBar": true,
   "skip_h1_title": false,
   "title_cell": "Table of Contents",
   "title_sidebar": "Contents",
   "toc_cell": true,
   "toc_position": {},
   "toc_section_display": true,
   "toc_window_display": true
  }
 },
 "nbformat": 4,
 "nbformat_minor": 4
}
