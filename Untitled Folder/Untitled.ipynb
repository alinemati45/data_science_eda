{
 "cells": [
  {
   "cell_type": "markdown",
   "id": "842461ce",
   "metadata": {
    "toc": true
   },
   "source": [
    "<h1>Table of Contents<span class=\"tocSkip\"></span></h1>\n",
    "<div class=\"toc\"><ul class=\"toc-item\"></ul></div>"
   ]
  },
  {
   "cell_type": "code",
   "execution_count": 1,
   "id": "2c368361",
   "metadata": {
    "ExecuteTime": {
     "end_time": "2022-09-21T18:30:29.104338Z",
     "start_time": "2022-09-21T18:29:54.703686Z"
    }
   },
   "outputs": [
    {
     "name": "stdout",
     "output_type": "stream",
     "text": [
      "Collecting evidently\n",
      "  Downloading evidently-0.1.57.dev0-py3-none-any.whl (11.9 MB)\n",
      "\u001b[2K     \u001b[90m━━━━━━━━━━━━━━━━━━━━━━━━━━━━━━━━━━━━━━━\u001b[0m \u001b[32m11.9/11.9 MB\u001b[0m \u001b[31m449.0 kB/s\u001b[0m eta \u001b[36m0:00:00\u001b[0m00:01\u001b[0m00:01\u001b[0m\n",
      "\u001b[?25hRequirement already satisfied: statsmodels>=0.12.2 in /Users/parsanemati/Library/r-miniconda-arm64/envs/nlp/lib/python3.8/site-packages (from evidently) (0.13.2)\n",
      "Requirement already satisfied: scipy>=1.5.4 in /Users/parsanemati/Library/r-miniconda-arm64/envs/nlp/lib/python3.8/site-packages (from evidently) (1.8.1)\n",
      "Requirement already satisfied: scikit-learn>=0.24.0 in /Users/parsanemati/Library/r-miniconda-arm64/envs/nlp/lib/python3.8/site-packages (from evidently) (1.1.2)\n",
      "Collecting dataclasses>=0.6\n",
      "  Using cached dataclasses-0.6-py3-none-any.whl (14 kB)\n",
      "Collecting PyYAML~=5.1\n",
      "  Downloading PyYAML-5.4.1.tar.gz (175 kB)\n",
      "\u001b[2K     \u001b[90m━━━━━━━━━━━━━━━━━━━━━━━━━━━━━━━━━━━━━\u001b[0m \u001b[32m175.1/175.1 kB\u001b[0m \u001b[31m848.6 kB/s\u001b[0m eta \u001b[36m0:00:00\u001b[0m00:01\u001b[0m00:01\u001b[0m\n",
      "\u001b[?25h  Installing build dependencies ... \u001b[?25ldone\n",
      "\u001b[?25h  Getting requirements to build wheel ... \u001b[?25ldone\n",
      "\u001b[?25h  Preparing metadata (pyproject.toml) ... \u001b[?25ldone\n",
      "\u001b[?25hRequirement already satisfied: numpy>=1.19.5 in /Users/parsanemati/Library/r-miniconda-arm64/envs/nlp/lib/python3.8/site-packages (from evidently) (1.23.3)\n",
      "Requirement already satisfied: pandas>=1.1.5 in /Users/parsanemati/Library/r-miniconda-arm64/envs/nlp/lib/python3.8/site-packages (from evidently) (1.4.4)\n",
      "Requirement already satisfied: requests>=2.19.0 in /Users/parsanemati/Library/r-miniconda-arm64/envs/nlp/lib/python3.8/site-packages (from evidently) (2.28.1)\n",
      "Requirement already satisfied: plotly>=5.5.0 in /Users/parsanemati/Library/r-miniconda-arm64/envs/nlp/lib/python3.8/site-packages (from evidently) (5.5.0)\n",
      "Requirement already satisfied: pytz>=2020.1 in /Users/parsanemati/Library/r-miniconda-arm64/envs/nlp/lib/python3.8/site-packages (from pandas>=1.1.5->evidently) (2022.1)\n",
      "Requirement already satisfied: python-dateutil>=2.8.1 in /Users/parsanemati/Library/r-miniconda-arm64/envs/nlp/lib/python3.8/site-packages (from pandas>=1.1.5->evidently) (2.8.2)\n",
      "Requirement already satisfied: six in /Users/parsanemati/Library/r-miniconda-arm64/envs/nlp/lib/python3.8/site-packages (from plotly>=5.5.0->evidently) (1.16.0)\n",
      "Requirement already satisfied: tenacity>=6.2.0 in /Users/parsanemati/Library/r-miniconda-arm64/envs/nlp/lib/python3.8/site-packages (from plotly>=5.5.0->evidently) (8.0.1)\n",
      "Requirement already satisfied: charset-normalizer<3,>=2 in /Users/parsanemati/Library/r-miniconda-arm64/envs/nlp/lib/python3.8/site-packages (from requests>=2.19.0->evidently) (2.0.4)\n",
      "Requirement already satisfied: idna<4,>=2.5 in /Users/parsanemati/Library/r-miniconda-arm64/envs/nlp/lib/python3.8/site-packages (from requests>=2.19.0->evidently) (3.3)\n",
      "Requirement already satisfied: certifi>=2017.4.17 in /Users/parsanemati/Library/r-miniconda-arm64/envs/nlp/lib/python3.8/site-packages (from requests>=2.19.0->evidently) (2022.6.15)\n",
      "Requirement already satisfied: urllib3<1.27,>=1.21.1 in /Users/parsanemati/Library/r-miniconda-arm64/envs/nlp/lib/python3.8/site-packages (from requests>=2.19.0->evidently) (1.26.11)\n",
      "Requirement already satisfied: threadpoolctl>=2.0.0 in /Users/parsanemati/Library/r-miniconda-arm64/envs/nlp/lib/python3.8/site-packages (from scikit-learn>=0.24.0->evidently) (3.1.0)\n",
      "Requirement already satisfied: joblib>=1.0.0 in /Users/parsanemati/Library/r-miniconda-arm64/envs/nlp/lib/python3.8/site-packages (from scikit-learn>=0.24.0->evidently) (1.1.0)\n",
      "Requirement already satisfied: packaging>=21.3 in /Users/parsanemati/Library/r-miniconda-arm64/envs/nlp/lib/python3.8/site-packages (from statsmodels>=0.12.2->evidently) (21.3)\n",
      "Requirement already satisfied: patsy>=0.5.2 in /Users/parsanemati/Library/r-miniconda-arm64/envs/nlp/lib/python3.8/site-packages (from statsmodels>=0.12.2->evidently) (0.5.2)\n",
      "Requirement already satisfied: pyparsing!=3.0.5,>=2.0.2 in /Users/parsanemati/Library/r-miniconda-arm64/envs/nlp/lib/python3.8/site-packages (from packaging>=21.3->statsmodels>=0.12.2->evidently) (3.0.9)\n",
      "Building wheels for collected packages: PyYAML\n",
      "  Building wheel for PyYAML (pyproject.toml) ... \u001b[?25ldone\n",
      "\u001b[?25h  Created wheel for PyYAML: filename=PyYAML-5.4.1-cp38-cp38-macosx_11_0_arm64.whl size=127061 sha256=fdcfcb528d9184f7471e997aa7f2ae5943d6e3cc49c9200993c6bb676a05929a\n",
      "  Stored in directory: /Users/parsanemati/Library/Caches/pip/wheels/dd/c5/1d/5d7436173d3efd4a14dcb510eb0b29525ecb6b0e41489e716e\n",
      "Successfully built PyYAML\n",
      "Installing collected packages: dataclasses, PyYAML, evidently\n",
      "  Attempting uninstall: PyYAML\n",
      "    Found existing installation: PyYAML 6.0\n",
      "    Uninstalling PyYAML-6.0:\n",
      "      Successfully uninstalled PyYAML-6.0\n",
      "Successfully installed PyYAML-5.4.1 dataclasses-0.6 evidently-0.1.57.dev0\n"
     ]
    }
   ],
   "source": [
    "!pip install pip install evidently"
   ]
  },
  {
   "cell_type": "code",
   "execution_count": 7,
   "id": "c0d150f0",
   "metadata": {
    "ExecuteTime": {
     "end_time": "2022-09-21T18:56:11.210594Z",
     "start_time": "2022-09-21T18:56:11.127803Z"
    }
   },
   "outputs": [
    {
     "name": "stderr",
     "output_type": "stream",
     "text": [
      "/Users/parsanemati/Library/r-miniconda-arm64/envs/nlp/lib/python3.8/site-packages/scipy/stats/_stats_py.py:6766: RuntimeWarning:\n",
      "\n",
      "divide by zero encountered in true_divide\n",
      "\n"
     ]
    }
   ],
   "source": [
    "from sklearn import datasets\n",
    "\n",
    "from evidently.dashboard import Dashboard\n",
    "from evidently.dashboard.tabs import (\n",
    "    DataDriftTab,\n",
    "    CatTargetDriftTab\n",
    ")\n",
    "\n",
    "iris = datasets.load_iris(as_frame=True)\n",
    "iris_frame, iris_frame[\"target\"] = iris.data, iris.target\n",
    "\n",
    "iris_data_drift_report = Dashboard(tabs=[DataDriftTab()])\n",
    "iris_data_drift_report.calculate(iris_frame[:100], iris_frame[100:], column_mapping = None)\n",
    "iris_data_drift_report.save(\"my_report.html\")"
   ]
  },
  {
   "cell_type": "code",
   "execution_count": 6,
   "id": "e85c7c56",
   "metadata": {
    "ExecuteTime": {
     "end_time": "2022-09-21T18:42:46.609693Z",
     "start_time": "2022-09-21T18:42:46.505432Z"
    }
   },
   "outputs": [
    {
     "name": "stderr",
     "output_type": "stream",
     "text": [
      "/Users/parsanemati/Library/r-miniconda-arm64/envs/nlp/lib/python3.8/site-packages/scipy/stats/_stats_py.py:6766: RuntimeWarning:\n",
      "\n",
      "divide by zero encountered in true_divide\n",
      "\n"
     ]
    }
   ],
   "source": []
  },
  {
   "cell_type": "code",
   "execution_count": null,
   "id": "e10c7ce2",
   "metadata": {},
   "outputs": [],
   "source": []
  }
 ],
 "metadata": {
  "kernelspec": {
   "display_name": "nlp",
   "language": "python",
   "name": "nlp"
  },
  "language_info": {
   "codemirror_mode": {
    "name": "ipython",
    "version": 3
   },
   "file_extension": ".py",
   "mimetype": "text/x-python",
   "name": "python",
   "nbconvert_exporter": "python",
   "pygments_lexer": "ipython3",
   "version": "3.8.13"
  },
  "toc": {
   "base_numbering": 1,
   "nav_menu": {},
   "number_sections": true,
   "sideBar": true,
   "skip_h1_title": false,
   "title_cell": "Table of Contents",
   "title_sidebar": "Contents",
   "toc_cell": true,
   "toc_position": {},
   "toc_section_display": true,
   "toc_window_display": true
  }
 },
 "nbformat": 4,
 "nbformat_minor": 5
}
